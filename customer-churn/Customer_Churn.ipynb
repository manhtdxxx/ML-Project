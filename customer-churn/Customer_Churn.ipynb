{
 "cells": [
  {
   "cell_type": "code",
   "execution_count": 1,
   "id": "2b163153",
   "metadata": {
    "id": "2b163153"
   },
   "outputs": [],
   "source": [
    "import pandas as pd\n",
    "from matplotlib import pyplot as plt\n",
    "import seaborn as sns\n",
    "import numpy as np\n",
    "from sklearn.model_selection import train_test_split\n",
    "from sklearn.preprocessing import MinMaxScaler\n",
    "import tensorflow as tf\n",
    "import tensorflow.keras as keras\n",
    "from sklearn.metrics import confusion_matrix, classification_report, f1_score\n",
    "\n",
    "# Set Pandas to display all columns\n",
    "pd.set_option('display.max_columns', None)"
   ]
  },
  {
   "cell_type": "markdown",
   "id": "r1gWsXoaS9FY",
   "metadata": {
    "id": "r1gWsXoaS9FY"
   },
   "source": [
    "# Introduction"
   ]
  },
  {
   "cell_type": "markdown",
   "id": "yZ8Huze6S_il",
   "metadata": {
    "id": "yZ8Huze6S_il"
   },
   "source": [
    "- Customer churn refers to the loss of customers over a specific period.\n",
    "- In this project, I will prioritize **Recall** instead of **Precision** and **Accuracy**, my goal is to capture as many actual churn cases as possible, even if it means predicting some non-churners as churners. This is crucial when:\n",
    "  - The cost of losing a churned customer is high.\n",
    "  - From that, company will prevent churn by offering retention strategies.\n",
    "\n"
   ]
  },
  {
   "cell_type": "markdown",
   "id": "5jDMfP5XSmZS",
   "metadata": {
    "id": "5jDMfP5XSmZS"
   },
   "source": [
    "# Import Dataset"
   ]
  },
  {
   "cell_type": "code",
   "execution_count": 2,
   "id": "784d3378",
   "metadata": {
    "colab": {
     "base_uri": "https://localhost:8080/",
     "height": 313
    },
    "id": "784d3378",
    "outputId": "f81a72d0-a704-434e-e272-04a1d662f590"
   },
   "outputs": [
    {
     "data": {
      "text/html": [
       "<div>\n",
       "<style scoped>\n",
       "    .dataframe tbody tr th:only-of-type {\n",
       "        vertical-align: middle;\n",
       "    }\n",
       "\n",
       "    .dataframe tbody tr th {\n",
       "        vertical-align: top;\n",
       "    }\n",
       "\n",
       "    .dataframe thead th {\n",
       "        text-align: right;\n",
       "    }\n",
       "</style>\n",
       "<table border=\"1\" class=\"dataframe\">\n",
       "  <thead>\n",
       "    <tr style=\"text-align: right;\">\n",
       "      <th></th>\n",
       "      <th>customerID</th>\n",
       "      <th>gender</th>\n",
       "      <th>SeniorCitizen</th>\n",
       "      <th>Partner</th>\n",
       "      <th>Dependents</th>\n",
       "      <th>tenure</th>\n",
       "      <th>PhoneService</th>\n",
       "      <th>MultipleLines</th>\n",
       "      <th>InternetService</th>\n",
       "      <th>OnlineSecurity</th>\n",
       "      <th>OnlineBackup</th>\n",
       "      <th>DeviceProtection</th>\n",
       "      <th>TechSupport</th>\n",
       "      <th>StreamingTV</th>\n",
       "      <th>StreamingMovies</th>\n",
       "      <th>Contract</th>\n",
       "      <th>PaperlessBilling</th>\n",
       "      <th>PaymentMethod</th>\n",
       "      <th>MonthlyCharges</th>\n",
       "      <th>TotalCharges</th>\n",
       "      <th>Churn</th>\n",
       "    </tr>\n",
       "  </thead>\n",
       "  <tbody>\n",
       "    <tr>\n",
       "      <th>6184</th>\n",
       "      <td>3413-CSSTH</td>\n",
       "      <td>Male</td>\n",
       "      <td>0</td>\n",
       "      <td>No</td>\n",
       "      <td>No</td>\n",
       "      <td>41</td>\n",
       "      <td>Yes</td>\n",
       "      <td>Yes</td>\n",
       "      <td>DSL</td>\n",
       "      <td>No</td>\n",
       "      <td>No</td>\n",
       "      <td>Yes</td>\n",
       "      <td>No</td>\n",
       "      <td>No</td>\n",
       "      <td>No</td>\n",
       "      <td>Month-to-month</td>\n",
       "      <td>Yes</td>\n",
       "      <td>Bank transfer (automatic)</td>\n",
       "      <td>55.70</td>\n",
       "      <td>2237.55</td>\n",
       "      <td>No</td>\n",
       "    </tr>\n",
       "    <tr>\n",
       "      <th>6176</th>\n",
       "      <td>0475-RIJEP</td>\n",
       "      <td>Male</td>\n",
       "      <td>0</td>\n",
       "      <td>No</td>\n",
       "      <td>No</td>\n",
       "      <td>43</td>\n",
       "      <td>Yes</td>\n",
       "      <td>Yes</td>\n",
       "      <td>Fiber optic</td>\n",
       "      <td>No</td>\n",
       "      <td>Yes</td>\n",
       "      <td>No</td>\n",
       "      <td>No</td>\n",
       "      <td>No</td>\n",
       "      <td>No</td>\n",
       "      <td>Month-to-month</td>\n",
       "      <td>Yes</td>\n",
       "      <td>Electronic check</td>\n",
       "      <td>77.85</td>\n",
       "      <td>3365.85</td>\n",
       "      <td>Yes</td>\n",
       "    </tr>\n",
       "    <tr>\n",
       "      <th>2210</th>\n",
       "      <td>7036-TYDEC</td>\n",
       "      <td>Female</td>\n",
       "      <td>0</td>\n",
       "      <td>No</td>\n",
       "      <td>No</td>\n",
       "      <td>69</td>\n",
       "      <td>Yes</td>\n",
       "      <td>Yes</td>\n",
       "      <td>Fiber optic</td>\n",
       "      <td>No</td>\n",
       "      <td>No</td>\n",
       "      <td>Yes</td>\n",
       "      <td>Yes</td>\n",
       "      <td>Yes</td>\n",
       "      <td>Yes</td>\n",
       "      <td>Two year</td>\n",
       "      <td>No</td>\n",
       "      <td>Electronic check</td>\n",
       "      <td>104.00</td>\n",
       "      <td>7028.5</td>\n",
       "      <td>No</td>\n",
       "    </tr>\n",
       "    <tr>\n",
       "      <th>709</th>\n",
       "      <td>3347-YJZZE</td>\n",
       "      <td>Male</td>\n",
       "      <td>0</td>\n",
       "      <td>Yes</td>\n",
       "      <td>Yes</td>\n",
       "      <td>29</td>\n",
       "      <td>Yes</td>\n",
       "      <td>Yes</td>\n",
       "      <td>DSL</td>\n",
       "      <td>No</td>\n",
       "      <td>Yes</td>\n",
       "      <td>Yes</td>\n",
       "      <td>No</td>\n",
       "      <td>Yes</td>\n",
       "      <td>Yes</td>\n",
       "      <td>Month-to-month</td>\n",
       "      <td>No</td>\n",
       "      <td>Credit card (automatic)</td>\n",
       "      <td>80.10</td>\n",
       "      <td>2211.8</td>\n",
       "      <td>No</td>\n",
       "    </tr>\n",
       "    <tr>\n",
       "      <th>625</th>\n",
       "      <td>3003-CMDUU</td>\n",
       "      <td>Female</td>\n",
       "      <td>0</td>\n",
       "      <td>Yes</td>\n",
       "      <td>No</td>\n",
       "      <td>25</td>\n",
       "      <td>Yes</td>\n",
       "      <td>No</td>\n",
       "      <td>Fiber optic</td>\n",
       "      <td>No</td>\n",
       "      <td>No</td>\n",
       "      <td>No</td>\n",
       "      <td>Yes</td>\n",
       "      <td>Yes</td>\n",
       "      <td>Yes</td>\n",
       "      <td>Month-to-month</td>\n",
       "      <td>Yes</td>\n",
       "      <td>Electronic check</td>\n",
       "      <td>95.15</td>\n",
       "      <td>2395.7</td>\n",
       "      <td>No</td>\n",
       "    </tr>\n",
       "  </tbody>\n",
       "</table>\n",
       "</div>"
      ],
      "text/plain": [
       "      customerID  gender  SeniorCitizen Partner Dependents  tenure  \\\n",
       "6184  3413-CSSTH    Male              0      No         No      41   \n",
       "6176  0475-RIJEP    Male              0      No         No      43   \n",
       "2210  7036-TYDEC  Female              0      No         No      69   \n",
       "709   3347-YJZZE    Male              0     Yes        Yes      29   \n",
       "625   3003-CMDUU  Female              0     Yes         No      25   \n",
       "\n",
       "     PhoneService MultipleLines InternetService OnlineSecurity OnlineBackup  \\\n",
       "6184          Yes           Yes             DSL             No           No   \n",
       "6176          Yes           Yes     Fiber optic             No          Yes   \n",
       "2210          Yes           Yes     Fiber optic             No           No   \n",
       "709           Yes           Yes             DSL             No          Yes   \n",
       "625           Yes            No     Fiber optic             No           No   \n",
       "\n",
       "     DeviceProtection TechSupport StreamingTV StreamingMovies        Contract  \\\n",
       "6184              Yes          No          No              No  Month-to-month   \n",
       "6176               No          No          No              No  Month-to-month   \n",
       "2210              Yes         Yes         Yes             Yes        Two year   \n",
       "709               Yes          No         Yes             Yes  Month-to-month   \n",
       "625                No         Yes         Yes             Yes  Month-to-month   \n",
       "\n",
       "     PaperlessBilling              PaymentMethod  MonthlyCharges TotalCharges  \\\n",
       "6184              Yes  Bank transfer (automatic)           55.70      2237.55   \n",
       "6176              Yes           Electronic check           77.85      3365.85   \n",
       "2210               No           Electronic check          104.00       7028.5   \n",
       "709                No    Credit card (automatic)           80.10       2211.8   \n",
       "625               Yes           Electronic check           95.15       2395.7   \n",
       "\n",
       "     Churn  \n",
       "6184    No  \n",
       "6176   Yes  \n",
       "2210    No  \n",
       "709     No  \n",
       "625     No  "
      ]
     },
     "execution_count": 2,
     "metadata": {},
     "output_type": "execute_result"
    }
   ],
   "source": [
    "df = pd.read_csv(\"customer_churn.csv\")\n",
    "df.sample(5)"
   ]
  },
  {
   "cell_type": "markdown",
   "id": "hByZRNTWqcEo",
   "metadata": {
    "id": "hByZRNTWqcEo"
   },
   "source": [
    "<div align=\"center\">\n",
    "\n",
    "| Column | Description |\n",
    "|------|---------|\n",
    "| **gender** | Giới tính của khách hàng. |\n",
    "| **Partner** | Khách hàng có vợ/chồng không. |\n",
    "| **Dependents** | Khách hàng có người phụ thuộc không. |\n",
    "| **PhoneService** | Khách hàng có sử dụng dịch vụ điện thoại không. |\n",
    "| **MultipleLines** | Khách hàng có nhiều đường dây điện thoại không. |\n",
    "| **InternetService** | Loại dịch vụ internet khách hàng sử dụng. |\n",
    "| **OnlineSecurity** | Dịch vụ bảo mật trực tuyến. |\n",
    "| **OnlineBackup** | Dịch vụ sao lưu trực tuyến. |\n",
    "| **DeviceProtection** | Dịch vụ bảo vệ thiết bị. |\n",
    "| **TechSupport** | Dịch vụ hỗ trợ kỹ thuật. |\n",
    "| **StreamingTV** | Dịch vụ xem TV trực tuyến. |\n",
    "| **StreamingMovies** | Dịch vụ xem phim trực tuyến. |\n",
    "| **Contract** | Loại hợp đồng khách hàng đăng ký. |\n",
    "| **PaperlessBilling** | Khách hàng có sử dụng hóa đơn điện tử không. |\n",
    "| **PaymentMethod** | Phương thức thanh toán của khách hàng. |\n",
    "| **TotalCharges** | Tổng số tiền khách hàng đã thanh toán. |\n",
    "| **Churn** | Khách hàng có rời bỏ dịch vụ không. |\n",
    "\n",
    "</div>\n"
   ]
  },
  {
   "cell_type": "markdown",
   "id": "upqEEMSatHvA",
   "metadata": {
    "id": "upqEEMSatHvA"
   },
   "source": [
    "---"
   ]
  },
  {
   "cell_type": "markdown",
   "id": "Uxoj4kqBvkYH",
   "metadata": {
    "id": "Uxoj4kqBvkYH"
   },
   "source": [
    "# Helper Func"
   ]
  },
  {
   "cell_type": "code",
   "execution_count": 3,
   "id": "7b5e20c6-e20f-4b37-ab50-0ad46fb381f6",
   "metadata": {
    "id": "7b5e20c6-e20f-4b37-ab50-0ad46fb381f6"
   },
   "outputs": [],
   "source": [
    "def print_uniqueVals(df):\n",
    "    for col in df:\n",
    "        if df[col].dtypes == 'object':\n",
    "            print(f'{col :<20}:', df[col].unique())"
   ]
  },
  {
   "cell_type": "markdown",
   "id": "uB9Jbbz1vhnG",
   "metadata": {
    "id": "uB9Jbbz1vhnG"
   },
   "source": [
    "---"
   ]
  },
  {
   "cell_type": "markdown",
   "id": "3183659a-7845-4857-b0d7-9145f3ba0c65",
   "metadata": {
    "id": "3183659a-7845-4857-b0d7-9145f3ba0c65"
   },
   "source": [
    "# Data Cleaning"
   ]
  },
  {
   "cell_type": "code",
   "execution_count": 4,
   "id": "b6ed3c56",
   "metadata": {
    "colab": {
     "base_uri": "https://localhost:8080/"
    },
    "id": "b6ed3c56",
    "outputId": "95620a67-cd0b-4ccc-c17a-b0f9421a00b7",
    "scrolled": true
   },
   "outputs": [
    {
     "name": "stdout",
     "output_type": "stream",
     "text": [
      "<class 'pandas.core.frame.DataFrame'>\n",
      "RangeIndex: 7043 entries, 0 to 7042\n",
      "Data columns (total 21 columns):\n",
      " #   Column            Non-Null Count  Dtype  \n",
      "---  ------            --------------  -----  \n",
      " 0   customerID        7043 non-null   object \n",
      " 1   gender            7043 non-null   object \n",
      " 2   SeniorCitizen     7043 non-null   int64  \n",
      " 3   Partner           7043 non-null   object \n",
      " 4   Dependents        7043 non-null   object \n",
      " 5   tenure            7043 non-null   int64  \n",
      " 6   PhoneService      7043 non-null   object \n",
      " 7   MultipleLines     7043 non-null   object \n",
      " 8   InternetService   7043 non-null   object \n",
      " 9   OnlineSecurity    7043 non-null   object \n",
      " 10  OnlineBackup      7043 non-null   object \n",
      " 11  DeviceProtection  7043 non-null   object \n",
      " 12  TechSupport       7043 non-null   object \n",
      " 13  StreamingTV       7043 non-null   object \n",
      " 14  StreamingMovies   7043 non-null   object \n",
      " 15  Contract          7043 non-null   object \n",
      " 16  PaperlessBilling  7043 non-null   object \n",
      " 17  PaymentMethod     7043 non-null   object \n",
      " 18  MonthlyCharges    7043 non-null   float64\n",
      " 19  TotalCharges      7043 non-null   object \n",
      " 20  Churn             7043 non-null   object \n",
      "dtypes: float64(1), int64(2), object(18)\n",
      "memory usage: 1.1+ MB\n"
     ]
    }
   ],
   "source": [
    "df.info()"
   ]
  },
  {
   "cell_type": "markdown",
   "id": "UEyDQO8pn1lA",
   "metadata": {
    "id": "UEyDQO8pn1lA"
   },
   "source": [
    "- Notice that `TotalCharges` column is **object** type but it contains numeric values"
   ]
  },
  {
   "cell_type": "code",
   "execution_count": 5,
   "id": "fe49ba70",
   "metadata": {
    "id": "fe49ba70"
   },
   "outputs": [],
   "source": [
    "df.TotalCharges = pd.to_numeric(df.TotalCharges, errors='coerce') # If ‘coerce’, then invalid parsing will be set as NaN."
   ]
  },
  {
   "cell_type": "code",
   "execution_count": 6,
   "id": "41592dd3",
   "metadata": {
    "colab": {
     "base_uri": "https://localhost:8080/"
    },
    "id": "41592dd3",
    "outputId": "8c72946b-5cbe-4e71-c736-ded73b58f72a"
   },
   "outputs": [
    {
     "data": {
      "text/plain": [
       "11"
      ]
     },
     "execution_count": 6,
     "metadata": {},
     "output_type": "execute_result"
    }
   ],
   "source": [
    "df.TotalCharges.isnull().sum()"
   ]
  },
  {
   "cell_type": "markdown",
   "id": "pte9FXyxp8wl",
   "metadata": {
    "id": "pte9FXyxp8wl"
   },
   "source": [
    "- There are 11 null values after casting, so I will drop those records"
   ]
  },
  {
   "cell_type": "code",
   "execution_count": 7,
   "id": "aef87e5f",
   "metadata": {
    "id": "aef87e5f"
   },
   "outputs": [],
   "source": [
    "df.dropna(subset='TotalCharges', inplace=True)"
   ]
  },
  {
   "cell_type": "code",
   "execution_count": 8,
   "id": "902760bf-421a-4c75-99a1-f7e520c416bd",
   "metadata": {
    "colab": {
     "base_uri": "https://localhost:8080/"
    },
    "id": "902760bf-421a-4c75-99a1-f7e520c416bd",
    "outputId": "bdbb8976-831f-49e6-ade0-fe4aa21b2b7b"
   },
   "outputs": [
    {
     "name": "stdout",
     "output_type": "stream",
     "text": [
      "<class 'pandas.core.frame.DataFrame'>\n",
      "Index: 7032 entries, 0 to 7042\n",
      "Data columns (total 21 columns):\n",
      " #   Column            Non-Null Count  Dtype  \n",
      "---  ------            --------------  -----  \n",
      " 0   customerID        7032 non-null   object \n",
      " 1   gender            7032 non-null   object \n",
      " 2   SeniorCitizen     7032 non-null   int64  \n",
      " 3   Partner           7032 non-null   object \n",
      " 4   Dependents        7032 non-null   object \n",
      " 5   tenure            7032 non-null   int64  \n",
      " 6   PhoneService      7032 non-null   object \n",
      " 7   MultipleLines     7032 non-null   object \n",
      " 8   InternetService   7032 non-null   object \n",
      " 9   OnlineSecurity    7032 non-null   object \n",
      " 10  OnlineBackup      7032 non-null   object \n",
      " 11  DeviceProtection  7032 non-null   object \n",
      " 12  TechSupport       7032 non-null   object \n",
      " 13  StreamingTV       7032 non-null   object \n",
      " 14  StreamingMovies   7032 non-null   object \n",
      " 15  Contract          7032 non-null   object \n",
      " 16  PaperlessBilling  7032 non-null   object \n",
      " 17  PaymentMethod     7032 non-null   object \n",
      " 18  MonthlyCharges    7032 non-null   float64\n",
      " 19  TotalCharges      7032 non-null   float64\n",
      " 20  Churn             7032 non-null   object \n",
      "dtypes: float64(2), int64(2), object(17)\n",
      "memory usage: 1.2+ MB\n"
     ]
    }
   ],
   "source": [
    "df.info()"
   ]
  },
  {
   "cell_type": "markdown",
   "id": "aCoWadr-qKGJ",
   "metadata": {
    "id": "aCoWadr-qKGJ"
   },
   "source": [
    "- It's okay now"
   ]
  },
  {
   "cell_type": "markdown",
   "id": "f823d38e-940a-41fe-93cf-36e09973e581",
   "metadata": {
    "id": "f823d38e-940a-41fe-93cf-36e09973e581"
   },
   "source": [
    "---"
   ]
  },
  {
   "cell_type": "markdown",
   "id": "Ay-7-fuEtIyl",
   "metadata": {
    "id": "Ay-7-fuEtIyl"
   },
   "source": [
    "# Feature Selection"
   ]
  },
  {
   "cell_type": "markdown",
   "id": "FhU3IzPyhnaE",
   "metadata": {
    "id": "FhU3IzPyhnaE"
   },
   "source": [
    "- First, drop customerID column, because it's no use for Prediction"
   ]
  },
  {
   "cell_type": "code",
   "execution_count": 9,
   "id": "1c95a8ba",
   "metadata": {
    "id": "1c95a8ba",
    "scrolled": true
   },
   "outputs": [],
   "source": [
    "df.drop('customerID', axis=1, inplace = True)"
   ]
  },
  {
   "cell_type": "code",
   "execution_count": 10,
   "id": "kebGwNA0s9xe",
   "metadata": {
    "colab": {
     "base_uri": "https://localhost:8080/"
    },
    "id": "kebGwNA0s9xe",
    "outputId": "5af6a9fc-5823-4a7a-e21a-0099c9b79565"
   },
   "outputs": [
    {
     "name": "stdout",
     "output_type": "stream",
     "text": [
      "gender              : ['Female' 'Male']\n",
      "Partner             : ['Yes' 'No']\n",
      "Dependents          : ['No' 'Yes']\n",
      "PhoneService        : ['No' 'Yes']\n",
      "MultipleLines       : ['No phone service' 'No' 'Yes']\n",
      "InternetService     : ['DSL' 'Fiber optic' 'No']\n",
      "OnlineSecurity      : ['No' 'Yes' 'No internet service']\n",
      "OnlineBackup        : ['Yes' 'No' 'No internet service']\n",
      "DeviceProtection    : ['No' 'Yes' 'No internet service']\n",
      "TechSupport         : ['No' 'Yes' 'No internet service']\n",
      "StreamingTV         : ['No' 'Yes' 'No internet service']\n",
      "StreamingMovies     : ['No' 'Yes' 'No internet service']\n",
      "Contract            : ['Month-to-month' 'One year' 'Two year']\n",
      "PaperlessBilling    : ['Yes' 'No']\n",
      "PaymentMethod       : ['Electronic check' 'Mailed check' 'Bank transfer (automatic)'\n",
      " 'Credit card (automatic)']\n",
      "Churn               : ['No' 'Yes']\n"
     ]
    }
   ],
   "source": [
    "print_uniqueVals(df)"
   ]
  },
  {
   "cell_type": "markdown",
   "id": "X1L0D3DUhO68",
   "metadata": {
    "id": "X1L0D3DUhO68"
   },
   "source": [
    "- Notice that `MultipleLines` column includes `PhoneService`, so I will drop it"
   ]
  },
  {
   "cell_type": "code",
   "execution_count": 11,
   "id": "ig8MLmv9h7HQ",
   "metadata": {
    "id": "ig8MLmv9h7HQ"
   },
   "outputs": [],
   "source": [
    "df.drop('PhoneService', axis=1, inplace = True)"
   ]
  },
  {
   "cell_type": "markdown",
   "id": "c4b368ab-d4f0-46f5-bd48-f0bd0ff30a96",
   "metadata": {
    "id": "c4b368ab-d4f0-46f5-bd48-f0bd0ff30a96"
   },
   "source": [
    "### Correlation between `Tenure`, `MonthlyCharges` & `TotalCharges`"
   ]
  },
  {
   "cell_type": "code",
   "execution_count": 12,
   "id": "X3cIzEhCxd1P",
   "metadata": {
    "colab": {
     "base_uri": "https://localhost:8080/",
     "height": 143
    },
    "id": "X3cIzEhCxd1P",
    "outputId": "df5ac4c6-828c-45c2-bcfa-f32e31dd76bc"
   },
   "outputs": [
    {
     "data": {
      "text/html": [
       "<div>\n",
       "<style scoped>\n",
       "    .dataframe tbody tr th:only-of-type {\n",
       "        vertical-align: middle;\n",
       "    }\n",
       "\n",
       "    .dataframe tbody tr th {\n",
       "        vertical-align: top;\n",
       "    }\n",
       "\n",
       "    .dataframe thead th {\n",
       "        text-align: right;\n",
       "    }\n",
       "</style>\n",
       "<table border=\"1\" class=\"dataframe\">\n",
       "  <thead>\n",
       "    <tr style=\"text-align: right;\">\n",
       "      <th></th>\n",
       "      <th>tenure</th>\n",
       "      <th>MonthlyCharges</th>\n",
       "      <th>TotalCharges</th>\n",
       "    </tr>\n",
       "  </thead>\n",
       "  <tbody>\n",
       "    <tr>\n",
       "      <th>tenure</th>\n",
       "      <td>1.000000</td>\n",
       "      <td>0.246862</td>\n",
       "      <td>0.825880</td>\n",
       "    </tr>\n",
       "    <tr>\n",
       "      <th>MonthlyCharges</th>\n",
       "      <td>0.246862</td>\n",
       "      <td>1.000000</td>\n",
       "      <td>0.651065</td>\n",
       "    </tr>\n",
       "    <tr>\n",
       "      <th>TotalCharges</th>\n",
       "      <td>0.825880</td>\n",
       "      <td>0.651065</td>\n",
       "      <td>1.000000</td>\n",
       "    </tr>\n",
       "  </tbody>\n",
       "</table>\n",
       "</div>"
      ],
      "text/plain": [
       "                  tenure  MonthlyCharges  TotalCharges\n",
       "tenure          1.000000        0.246862      0.825880\n",
       "MonthlyCharges  0.246862        1.000000      0.651065\n",
       "TotalCharges    0.825880        0.651065      1.000000"
      ]
     },
     "execution_count": 12,
     "metadata": {},
     "output_type": "execute_result"
    }
   ],
   "source": [
    "corr_matrix = df[['tenure', 'MonthlyCharges', 'TotalCharges']].corr()\n",
    "corr_matrix"
   ]
  },
  {
   "cell_type": "markdown",
   "id": "PMCw3I4hynpH",
   "metadata": {
    "id": "PMCw3I4hynpH"
   },
   "source": [
    "- Notice that `TotalCharges` is highly correlated with `Tenure` and `MonthlyCharges`, so I will drop `TotalCharges`"
   ]
  },
  {
   "cell_type": "code",
   "execution_count": 13,
   "id": "3gRJHuOIyqWy",
   "metadata": {
    "id": "3gRJHuOIyqWy"
   },
   "outputs": [],
   "source": [
    "df.drop('TotalCharges', axis=1, inplace = True)"
   ]
  },
  {
   "cell_type": "markdown",
   "id": "5529b32f-2ef9-4446-aa36-8550d17ff61e",
   "metadata": {
    "id": "5529b32f-2ef9-4446-aa36-8550d17ff61e"
   },
   "source": [
    "### Visualization between some Features (which can be ignored) and Target"
   ]
  },
  {
   "cell_type": "code",
   "execution_count": 14,
   "id": "93989958",
   "metadata": {
    "colab": {
     "base_uri": "https://localhost:8080/"
    },
    "id": "93989958",
    "outputId": "5c8bffa9-7bc7-4dae-c315-796adc9cb388"
   },
   "outputs": [
    {
     "data": {
      "text/plain": [
       "((5163, 18), (1869, 18))"
      ]
     },
     "execution_count": 14,
     "metadata": {},
     "output_type": "execute_result"
    }
   ],
   "source": [
    "df_churnNo = df[df.Churn=='No']\n",
    "df_churnYes = df[df.Churn=='Yes']\n",
    "\n",
    "df_churnNo.shape, df_churnYes.shape"
   ]
  },
  {
   "cell_type": "code",
   "execution_count": 15,
   "id": "5U4NO7Hz3x2Q",
   "metadata": {
    "id": "5U4NO7Hz3x2Q"
   },
   "outputs": [],
   "source": [
    "skippable_cols = ['gender', 'SeniorCitizen', 'Partner', 'Dependents', 'PaperlessBilling', 'PaymentMethod']"
   ]
  },
  {
   "cell_type": "code",
   "execution_count": 16,
   "id": "b6650a40",
   "metadata": {
    "colab": {
     "base_uri": "https://localhost:8080/",
     "height": 526
    },
    "id": "b6650a40",
    "outputId": "3ee6b535-75b0-47df-ba52-433940263b39"
   },
   "outputs": [
    {
     "data": {
      "image/png": "[encoded data removed]",
      "text/plain": [
       "<Figure size 1500x600 with 6 Axes>"
      ]
     },
     "metadata": {},
     "output_type": "display_data"
    }
   ],
   "source": [
    "cols = 3\n",
    "rows = int(np.ceil(len(skippable_cols) / cols))\n",
    "\n",
    "fig, axes = plt.subplots(nrows=rows, ncols=cols, figsize=(15, 3 * rows))\n",
    "axes = axes.flatten()\n",
    "\n",
    "for i, col in enumerate(skippable_cols):\n",
    "    ax = axes[i]\n",
    "\n",
    "    ax.hist([df_churnNo[col], df_churnYes[col]],\n",
    "            label=['Churn = No', 'Churn = Yes'],\n",
    "            alpha=0.6)\n",
    "\n",
    "    ax.legend()\n",
    "    ax.set_title(f'Correlation between {col} & Churn', fontsize=15)\n",
    "\n",
    "# Hide any unused subplots\n",
    "for j in range(i + 1, len(axes)):\n",
    "    fig.delaxes(axes[j])\n",
    "\n",
    "plt.tight_layout()\n",
    "plt.show()\n"
   ]
  },
  {
   "cell_type": "markdown",
   "id": "1rncMYJZ6936",
   "metadata": {
    "id": "1rncMYJZ6936"
   },
   "source": [
    "- From the image, `gender` seems to have nearly identical distributions for `Churn = No` and `Churn = Yes`. This suggests that gender does not contribute much to predicting churn and could be dropped.\n",
    "\n",
    "- Other categorical variables show more variation between churned and non-churned customers, so they might be more useful."
   ]
  },
  {
   "cell_type": "code",
   "execution_count": 17,
   "id": "TvnSs5667Lr8",
   "metadata": {
    "id": "TvnSs5667Lr8"
   },
   "outputs": [],
   "source": [
    "df.drop('gender', axis=1, inplace = True)"
   ]
  },
  {
   "cell_type": "markdown",
   "id": "faaeee83-9b74-462d-b8c3-07591be4b93f",
   "metadata": {
    "id": "faaeee83-9b74-462d-b8c3-07591be4b93f"
   },
   "source": [
    "---"
   ]
  },
  {
   "cell_type": "markdown",
   "id": "be5e686c-0183-4179-9aaf-00aefbf2b1f3",
   "metadata": {
    "id": "be5e686c-0183-4179-9aaf-00aefbf2b1f3"
   },
   "source": [
    "# Data Preprocessing"
   ]
  },
  {
   "cell_type": "markdown",
   "id": "68fb7188",
   "metadata": {
    "id": "68fb7188"
   },
   "source": [
    "### Label Encoding"
   ]
  },
  {
   "cell_type": "code",
   "execution_count": 18,
   "id": "bORj5wFOzYBP",
   "metadata": {
    "colab": {
     "base_uri": "https://localhost:8080/"
    },
    "id": "bORj5wFOzYBP",
    "outputId": "59d2ef82-093a-40f5-d520-da7551e13975"
   },
   "outputs": [
    {
     "name": "stdout",
     "output_type": "stream",
     "text": [
      "Partner             : ['Yes' 'No']\n",
      "Dependents          : ['No' 'Yes']\n",
      "MultipleLines       : ['No phone service' 'No' 'Yes']\n",
      "InternetService     : ['DSL' 'Fiber optic' 'No']\n",
      "OnlineSecurity      : ['No' 'Yes' 'No internet service']\n",
      "OnlineBackup        : ['Yes' 'No' 'No internet service']\n",
      "DeviceProtection    : ['No' 'Yes' 'No internet service']\n",
      "TechSupport         : ['No' 'Yes' 'No internet service']\n",
      "StreamingTV         : ['No' 'Yes' 'No internet service']\n",
      "StreamingMovies     : ['No' 'Yes' 'No internet service']\n",
      "Contract            : ['Month-to-month' 'One year' 'Two year']\n",
      "PaperlessBilling    : ['Yes' 'No']\n",
      "PaymentMethod       : ['Electronic check' 'Mailed check' 'Bank transfer (automatic)'\n",
      " 'Credit card (automatic)']\n",
      "Churn               : ['No' 'Yes']\n"
     ]
    }
   ],
   "source": [
    "print_uniqueVals(df)"
   ]
  },
  {
   "cell_type": "markdown",
   "id": "5PKuW1pw-BV6",
   "metadata": {
    "id": "5PKuW1pw-BV6"
   },
   "source": [
    "- Binary Encoding"
   ]
  },
  {
   "cell_type": "code",
   "execution_count": 19,
   "id": "c10efc48",
   "metadata": {
    "id": "c10efc48",
    "scrolled": true
   },
   "outputs": [],
   "source": [
    "df.replace('No internet service', 'No', inplace=True)"
   ]
  },
  {
   "cell_type": "code",
   "execution_count": 20,
   "id": "G15aMX5M1Rl-",
   "metadata": {
    "id": "G15aMX5M1Rl-"
   },
   "outputs": [],
   "source": [
    "binary_cols = ['Partner', 'Dependents', 'OnlineSecurity', 'OnlineBackup', 'DeviceProtection', 'TechSupport', 'StreamingTV', 'StreamingMovies', 'PaperlessBilling', 'Churn']\n",
    "df[binary_cols] = df[binary_cols].apply(lambda x: x.map({'Yes': 1, 'No': 0}))"
   ]
  },
  {
   "cell_type": "markdown",
   "id": "M4ms6-Es-F2G",
   "metadata": {
    "id": "M4ms6-Es-F2G"
   },
   "source": [
    "- Ordinal Encoding"
   ]
  },
  {
   "cell_type": "code",
   "execution_count": 21,
   "id": "b0f8d6b0",
   "metadata": {
    "colab": {
     "base_uri": "https://localhost:8080/"
    },
    "id": "b0f8d6b0",
    "outputId": "6296a7a8-9e8c-4371-bab1-c31788baf8e2"
   },
   "outputs": [
    {
     "name": "stdout",
     "output_type": "stream",
     "text": [
      "MultipleLines       : ['No phone service' 'No' 'Yes']\n",
      "InternetService     : ['DSL' 'Fiber optic' 'No']\n",
      "Contract            : ['Month-to-month' 'One year' 'Two year']\n",
      "PaymentMethod       : ['Electronic check' 'Mailed check' 'Bank transfer (automatic)'\n",
      " 'Credit card (automatic)']\n"
     ]
    }
   ],
   "source": [
    "print_uniqueVals(df)"
   ]
  },
  {
   "cell_type": "code",
   "execution_count": 22,
   "id": "8f7a1eca-a0ea-465e-9f63-56a0470760db",
   "metadata": {
    "id": "8f7a1eca-a0ea-465e-9f63-56a0470760db"
   },
   "outputs": [],
   "source": [
    "df[['MultipleLines']] = df[['MultipleLines']].apply(lambda x: x.map({'Yes': 2, 'No': 1, 'No phone service': 0}))"
   ]
  },
  {
   "cell_type": "markdown",
   "id": "ce48e6bc-2033-484a-ac00-d611935ba0bd",
   "metadata": {
    "id": "ce48e6bc-2033-484a-ac00-d611935ba0bd"
   },
   "source": [
    "### One Hot Encoding"
   ]
  },
  {
   "cell_type": "code",
   "execution_count": 23,
   "id": "45a0eb7c",
   "metadata": {
    "id": "45a0eb7c"
   },
   "outputs": [],
   "source": [
    "cols_ohe = ['InternetService', 'Contract', 'PaymentMethod']\n",
    "df_dummies = pd.get_dummies(df, columns=cols_ohe, drop_first=True, dtype='int64')"
   ]
  },
  {
   "cell_type": "code",
   "execution_count": 24,
   "id": "b7045f7a-cbd9-4c6a-8a36-3021352641b0",
   "metadata": {
    "colab": {
     "base_uri": "https://localhost:8080/"
    },
    "id": "b7045f7a-cbd9-4c6a-8a36-3021352641b0",
    "outputId": "088fe443-1594-44b9-95fa-229a8184e578"
   },
   "outputs": [
    {
     "name": "stdout",
     "output_type": "stream",
     "text": [
      "<class 'pandas.core.frame.DataFrame'>\n",
      "Index: 7032 entries, 0 to 7042\n",
      "Data columns (total 21 columns):\n",
      " #   Column                                 Non-Null Count  Dtype  \n",
      "---  ------                                 --------------  -----  \n",
      " 0   SeniorCitizen                          7032 non-null   int64  \n",
      " 1   Partner                                7032 non-null   int64  \n",
      " 2   Dependents                             7032 non-null   int64  \n",
      " 3   tenure                                 7032 non-null   int64  \n",
      " 4   MultipleLines                          7032 non-null   int64  \n",
      " 5   OnlineSecurity                         7032 non-null   int64  \n",
      " 6   OnlineBackup                           7032 non-null   int64  \n",
      " 7   DeviceProtection                       7032 non-null   int64  \n",
      " 8   TechSupport                            7032 non-null   int64  \n",
      " 9   StreamingTV                            7032 non-null   int64  \n",
      " 10  StreamingMovies                        7032 non-null   int64  \n",
      " 11  PaperlessBilling                       7032 non-null   int64  \n",
      " 12  MonthlyCharges                         7032 non-null   float64\n",
      " 13  Churn                                  7032 non-null   int64  \n",
      " 14  InternetService_Fiber optic            7032 non-null   int64  \n",
      " 15  InternetService_No                     7032 non-null   int64  \n",
      " 16  Contract_One year                      7032 non-null   int64  \n",
      " 17  Contract_Two year                      7032 non-null   int64  \n",
      " 18  PaymentMethod_Credit card (automatic)  7032 non-null   int64  \n",
      " 19  PaymentMethod_Electronic check         7032 non-null   int64  \n",
      " 20  PaymentMethod_Mailed check             7032 non-null   int64  \n",
      "dtypes: float64(1), int64(20)\n",
      "memory usage: 1.2 MB\n"
     ]
    }
   ],
   "source": [
    "df_dummies.info()"
   ]
  },
  {
   "cell_type": "markdown",
   "id": "d2abb55b",
   "metadata": {
    "id": "d2abb55b"
   },
   "source": [
    "### Scaling"
   ]
  },
  {
   "cell_type": "code",
   "execution_count": 25,
   "id": "60757589",
   "metadata": {
    "colab": {
     "base_uri": "https://localhost:8080/",
     "height": 337
    },
    "id": "60757589",
    "outputId": "aae2efc9-8e48-41b5-ef54-fea266e6f98f"
   },
   "outputs": [
    {
     "data": {
      "text/html": [
       "<div>\n",
       "<style scoped>\n",
       "    .dataframe tbody tr th:only-of-type {\n",
       "        vertical-align: middle;\n",
       "    }\n",
       "\n",
       "    .dataframe tbody tr th {\n",
       "        vertical-align: top;\n",
       "    }\n",
       "\n",
       "    .dataframe thead th {\n",
       "        text-align: right;\n",
       "    }\n",
       "</style>\n",
       "<table border=\"1\" class=\"dataframe\">\n",
       "  <thead>\n",
       "    <tr style=\"text-align: right;\">\n",
       "      <th></th>\n",
       "      <th>SeniorCitizen</th>\n",
       "      <th>Partner</th>\n",
       "      <th>Dependents</th>\n",
       "      <th>tenure</th>\n",
       "      <th>MultipleLines</th>\n",
       "      <th>OnlineSecurity</th>\n",
       "      <th>OnlineBackup</th>\n",
       "      <th>DeviceProtection</th>\n",
       "      <th>TechSupport</th>\n",
       "      <th>StreamingTV</th>\n",
       "      <th>StreamingMovies</th>\n",
       "      <th>PaperlessBilling</th>\n",
       "      <th>MonthlyCharges</th>\n",
       "      <th>Churn</th>\n",
       "      <th>InternetService_Fiber optic</th>\n",
       "      <th>InternetService_No</th>\n",
       "      <th>Contract_One year</th>\n",
       "      <th>Contract_Two year</th>\n",
       "      <th>PaymentMethod_Credit card (automatic)</th>\n",
       "      <th>PaymentMethod_Electronic check</th>\n",
       "      <th>PaymentMethod_Mailed check</th>\n",
       "    </tr>\n",
       "  </thead>\n",
       "  <tbody>\n",
       "    <tr>\n",
       "      <th>count</th>\n",
       "      <td>7032.000000</td>\n",
       "      <td>7032.000000</td>\n",
       "      <td>7032.000000</td>\n",
       "      <td>7032.000000</td>\n",
       "      <td>7032.000000</td>\n",
       "      <td>7032.000000</td>\n",
       "      <td>7032.000000</td>\n",
       "      <td>7032.000000</td>\n",
       "      <td>7032.000000</td>\n",
       "      <td>7032.000000</td>\n",
       "      <td>7032.000000</td>\n",
       "      <td>7032.000000</td>\n",
       "      <td>7032.000000</td>\n",
       "      <td>7032.000000</td>\n",
       "      <td>7032.000000</td>\n",
       "      <td>7032.000000</td>\n",
       "      <td>7032.000000</td>\n",
       "      <td>7032.000000</td>\n",
       "      <td>7032.000000</td>\n",
       "      <td>7032.000000</td>\n",
       "      <td>7032.000000</td>\n",
       "    </tr>\n",
       "    <tr>\n",
       "      <th>mean</th>\n",
       "      <td>0.162400</td>\n",
       "      <td>0.482509</td>\n",
       "      <td>0.298493</td>\n",
       "      <td>32.421786</td>\n",
       "      <td>1.325228</td>\n",
       "      <td>0.286547</td>\n",
       "      <td>0.344852</td>\n",
       "      <td>0.343857</td>\n",
       "      <td>0.290102</td>\n",
       "      <td>0.384386</td>\n",
       "      <td>0.388367</td>\n",
       "      <td>0.592719</td>\n",
       "      <td>64.798208</td>\n",
       "      <td>0.265785</td>\n",
       "      <td>0.440273</td>\n",
       "      <td>0.216155</td>\n",
       "      <td>0.209329</td>\n",
       "      <td>0.239619</td>\n",
       "      <td>0.216297</td>\n",
       "      <td>0.336320</td>\n",
       "      <td>0.228100</td>\n",
       "    </tr>\n",
       "    <tr>\n",
       "      <th>std</th>\n",
       "      <td>0.368844</td>\n",
       "      <td>0.499729</td>\n",
       "      <td>0.457629</td>\n",
       "      <td>24.545260</td>\n",
       "      <td>0.642585</td>\n",
       "      <td>0.452180</td>\n",
       "      <td>0.475354</td>\n",
       "      <td>0.475028</td>\n",
       "      <td>0.453842</td>\n",
       "      <td>0.486484</td>\n",
       "      <td>0.487414</td>\n",
       "      <td>0.491363</td>\n",
       "      <td>30.085974</td>\n",
       "      <td>0.441782</td>\n",
       "      <td>0.496455</td>\n",
       "      <td>0.411650</td>\n",
       "      <td>0.406858</td>\n",
       "      <td>0.426881</td>\n",
       "      <td>0.411748</td>\n",
       "      <td>0.472483</td>\n",
       "      <td>0.419637</td>\n",
       "    </tr>\n",
       "    <tr>\n",
       "      <th>min</th>\n",
       "      <td>0.000000</td>\n",
       "      <td>0.000000</td>\n",
       "      <td>0.000000</td>\n",
       "      <td>1.000000</td>\n",
       "      <td>0.000000</td>\n",
       "      <td>0.000000</td>\n",
       "      <td>0.000000</td>\n",
       "      <td>0.000000</td>\n",
       "      <td>0.000000</td>\n",
       "      <td>0.000000</td>\n",
       "      <td>0.000000</td>\n",
       "      <td>0.000000</td>\n",
       "      <td>18.250000</td>\n",
       "      <td>0.000000</td>\n",
       "      <td>0.000000</td>\n",
       "      <td>0.000000</td>\n",
       "      <td>0.000000</td>\n",
       "      <td>0.000000</td>\n",
       "      <td>0.000000</td>\n",
       "      <td>0.000000</td>\n",
       "      <td>0.000000</td>\n",
       "    </tr>\n",
       "    <tr>\n",
       "      <th>25%</th>\n",
       "      <td>0.000000</td>\n",
       "      <td>0.000000</td>\n",
       "      <td>0.000000</td>\n",
       "      <td>9.000000</td>\n",
       "      <td>1.000000</td>\n",
       "      <td>0.000000</td>\n",
       "      <td>0.000000</td>\n",
       "      <td>0.000000</td>\n",
       "      <td>0.000000</td>\n",
       "      <td>0.000000</td>\n",
       "      <td>0.000000</td>\n",
       "      <td>0.000000</td>\n",
       "      <td>35.587500</td>\n",
       "      <td>0.000000</td>\n",
       "      <td>0.000000</td>\n",
       "      <td>0.000000</td>\n",
       "      <td>0.000000</td>\n",
       "      <td>0.000000</td>\n",
       "      <td>0.000000</td>\n",
       "      <td>0.000000</td>\n",
       "      <td>0.000000</td>\n",
       "    </tr>\n",
       "    <tr>\n",
       "      <th>50%</th>\n",
       "      <td>0.000000</td>\n",
       "      <td>0.000000</td>\n",
       "      <td>0.000000</td>\n",
       "      <td>29.000000</td>\n",
       "      <td>1.000000</td>\n",
       "      <td>0.000000</td>\n",
       "      <td>0.000000</td>\n",
       "      <td>0.000000</td>\n",
       "      <td>0.000000</td>\n",
       "      <td>0.000000</td>\n",
       "      <td>0.000000</td>\n",
       "      <td>1.000000</td>\n",
       "      <td>70.350000</td>\n",
       "      <td>0.000000</td>\n",
       "      <td>0.000000</td>\n",
       "      <td>0.000000</td>\n",
       "      <td>0.000000</td>\n",
       "      <td>0.000000</td>\n",
       "      <td>0.000000</td>\n",
       "      <td>0.000000</td>\n",
       "      <td>0.000000</td>\n",
       "    </tr>\n",
       "    <tr>\n",
       "      <th>75%</th>\n",
       "      <td>0.000000</td>\n",
       "      <td>1.000000</td>\n",
       "      <td>1.000000</td>\n",
       "      <td>55.000000</td>\n",
       "      <td>2.000000</td>\n",
       "      <td>1.000000</td>\n",
       "      <td>1.000000</td>\n",
       "      <td>1.000000</td>\n",
       "      <td>1.000000</td>\n",
       "      <td>1.000000</td>\n",
       "      <td>1.000000</td>\n",
       "      <td>1.000000</td>\n",
       "      <td>89.862500</td>\n",
       "      <td>1.000000</td>\n",
       "      <td>1.000000</td>\n",
       "      <td>0.000000</td>\n",
       "      <td>0.000000</td>\n",
       "      <td>0.000000</td>\n",
       "      <td>0.000000</td>\n",
       "      <td>1.000000</td>\n",
       "      <td>0.000000</td>\n",
       "    </tr>\n",
       "    <tr>\n",
       "      <th>max</th>\n",
       "      <td>1.000000</td>\n",
       "      <td>1.000000</td>\n",
       "      <td>1.000000</td>\n",
       "      <td>72.000000</td>\n",
       "      <td>2.000000</td>\n",
       "      <td>1.000000</td>\n",
       "      <td>1.000000</td>\n",
       "      <td>1.000000</td>\n",
       "      <td>1.000000</td>\n",
       "      <td>1.000000</td>\n",
       "      <td>1.000000</td>\n",
       "      <td>1.000000</td>\n",
       "      <td>118.750000</td>\n",
       "      <td>1.000000</td>\n",
       "      <td>1.000000</td>\n",
       "      <td>1.000000</td>\n",
       "      <td>1.000000</td>\n",
       "      <td>1.000000</td>\n",
       "      <td>1.000000</td>\n",
       "      <td>1.000000</td>\n",
       "      <td>1.000000</td>\n",
       "    </tr>\n",
       "  </tbody>\n",
       "</table>\n",
       "</div>"
      ],
      "text/plain": [
       "       SeniorCitizen      Partner   Dependents       tenure  MultipleLines  \\\n",
       "count    7032.000000  7032.000000  7032.000000  7032.000000    7032.000000   \n",
       "mean        0.162400     0.482509     0.298493    32.421786       1.325228   \n",
       "std         0.368844     0.499729     0.457629    24.545260       0.642585   \n",
       "min         0.000000     0.000000     0.000000     1.000000       0.000000   \n",
       "25%         0.000000     0.000000     0.000000     9.000000       1.000000   \n",
       "50%         0.000000     0.000000     0.000000    29.000000       1.000000   \n",
       "75%         0.000000     1.000000     1.000000    55.000000       2.000000   \n",
       "max         1.000000     1.000000     1.000000    72.000000       2.000000   \n",
       "\n",
       "       OnlineSecurity  OnlineBackup  DeviceProtection  TechSupport  \\\n",
       "count     7032.000000   7032.000000       7032.000000  7032.000000   \n",
       "mean         0.286547      0.344852          0.343857     0.290102   \n",
       "std          0.452180      0.475354          0.475028     0.453842   \n",
       "min          0.000000      0.000000          0.000000     0.000000   \n",
       "25%          0.000000      0.000000          0.000000     0.000000   \n",
       "50%          0.000000      0.000000          0.000000     0.000000   \n",
       "75%          1.000000      1.000000          1.000000     1.000000   \n",
       "max          1.000000      1.000000          1.000000     1.000000   \n",
       "\n",
       "       StreamingTV  StreamingMovies  PaperlessBilling  MonthlyCharges  \\\n",
       "count  7032.000000      7032.000000       7032.000000     7032.000000   \n",
       "mean      0.384386         0.388367          0.592719       64.798208   \n",
       "std       0.486484         0.487414          0.491363       30.085974   \n",
       "min       0.000000         0.000000          0.000000       18.250000   \n",
       "25%       0.000000         0.000000          0.000000       35.587500   \n",
       "50%       0.000000         0.000000          1.000000       70.350000   \n",
       "75%       1.000000         1.000000          1.000000       89.862500   \n",
       "max       1.000000         1.000000          1.000000      118.750000   \n",
       "\n",
       "             Churn  InternetService_Fiber optic  InternetService_No  \\\n",
       "count  7032.000000                  7032.000000         7032.000000   \n",
       "mean      0.265785                     0.440273            0.216155   \n",
       "std       0.441782                     0.496455            0.411650   \n",
       "min       0.000000                     0.000000            0.000000   \n",
       "25%       0.000000                     0.000000            0.000000   \n",
       "50%       0.000000                     0.000000            0.000000   \n",
       "75%       1.000000                     1.000000            0.000000   \n",
       "max       1.000000                     1.000000            1.000000   \n",
       "\n",
       "       Contract_One year  Contract_Two year  \\\n",
       "count        7032.000000        7032.000000   \n",
       "mean            0.209329           0.239619   \n",
       "std             0.406858           0.426881   \n",
       "min             0.000000           0.000000   \n",
       "25%             0.000000           0.000000   \n",
       "50%             0.000000           0.000000   \n",
       "75%             0.000000           0.000000   \n",
       "max             1.000000           1.000000   \n",
       "\n",
       "       PaymentMethod_Credit card (automatic)  PaymentMethod_Electronic check  \\\n",
       "count                            7032.000000                     7032.000000   \n",
       "mean                                0.216297                        0.336320   \n",
       "std                                 0.411748                        0.472483   \n",
       "min                                 0.000000                        0.000000   \n",
       "25%                                 0.000000                        0.000000   \n",
       "50%                                 0.000000                        0.000000   \n",
       "75%                                 0.000000                        1.000000   \n",
       "max                                 1.000000                        1.000000   \n",
       "\n",
       "       PaymentMethod_Mailed check  \n",
       "count                 7032.000000  \n",
       "mean                     0.228100  \n",
       "std                      0.419637  \n",
       "min                      0.000000  \n",
       "25%                      0.000000  \n",
       "50%                      0.000000  \n",
       "75%                      0.000000  \n",
       "max                      1.000000  "
      ]
     },
     "execution_count": 25,
     "metadata": {},
     "output_type": "execute_result"
    }
   ],
   "source": [
    "df_dummies.describe()"
   ]
  },
  {
   "cell_type": "code",
   "execution_count": 26,
   "id": "D0ageicn_ZVd",
   "metadata": {
    "id": "D0ageicn_ZVd"
   },
   "outputs": [],
   "source": [
    "cols_scaled = ['tenure', 'MonthlyCharges']"
   ]
  },
  {
   "cell_type": "code",
   "execution_count": 27,
   "id": "f-QZtJv9_VpB",
   "metadata": {
    "colab": {
     "base_uri": "https://localhost:8080/",
     "height": 307
    },
    "id": "f-QZtJv9_VpB",
    "outputId": "bd0519d6-c29e-4b6c-8fed-e9593d97c4f5"
   },
   "outputs": [
    {
     "data": {
      "image/png": "[encoded data removed]",
      "text/plain": [
       "<Figure size 1500x300 with 2 Axes>"
      ]
     },
     "metadata": {},
     "output_type": "display_data"
    }
   ],
   "source": [
    "cols = 3\n",
    "rows = int(np.ceil(len(cols_scaled) / cols))\n",
    "\n",
    "fig, axes = plt.subplots(nrows=rows, ncols=cols, figsize=(15, 3 * rows))\n",
    "axes = axes.flatten()\n",
    "\n",
    "for i, col in enumerate(cols_scaled):\n",
    "    ax = axes[i]\n",
    "\n",
    "    sns.histplot(df[col], kde=True, ax=ax)\n",
    "\n",
    "    ax.set_title(f'Distribution of {col}', fontsize=15)\n",
    "\n",
    "# Remove extra empty subplots\n",
    "for j in range(i + 1, len(axes)):\n",
    "    fig.delaxes(axes[j])\n",
    "\n",
    "plt.tight_layout()\n",
    "plt.show()"
   ]
  },
  {
   "cell_type": "markdown",
   "id": "ZvMyMDvGAORE",
   "metadata": {
    "id": "ZvMyMDvGAORE"
   },
   "source": [
    "- `tenure` and `MonthlyCharges` are not normally distributed, so I will using **MinMaxScaler**"
   ]
  },
  {
   "cell_type": "code",
   "execution_count": 28,
   "id": "b9c08818",
   "metadata": {
    "colab": {
     "base_uri": "https://localhost:8080/",
     "height": 337
    },
    "id": "b9c08818",
    "outputId": "74caf69a-f14f-45d4-99d4-c2b07fe6bf81"
   },
   "outputs": [
    {
     "data": {
      "text/html": [
       "<div>\n",
       "<style scoped>\n",
       "    .dataframe tbody tr th:only-of-type {\n",
       "        vertical-align: middle;\n",
       "    }\n",
       "\n",
       "    .dataframe tbody tr th {\n",
       "        vertical-align: top;\n",
       "    }\n",
       "\n",
       "    .dataframe thead th {\n",
       "        text-align: right;\n",
       "    }\n",
       "</style>\n",
       "<table border=\"1\" class=\"dataframe\">\n",
       "  <thead>\n",
       "    <tr style=\"text-align: right;\">\n",
       "      <th></th>\n",
       "      <th>SeniorCitizen</th>\n",
       "      <th>Partner</th>\n",
       "      <th>Dependents</th>\n",
       "      <th>tenure</th>\n",
       "      <th>MultipleLines</th>\n",
       "      <th>OnlineSecurity</th>\n",
       "      <th>OnlineBackup</th>\n",
       "      <th>DeviceProtection</th>\n",
       "      <th>TechSupport</th>\n",
       "      <th>StreamingTV</th>\n",
       "      <th>StreamingMovies</th>\n",
       "      <th>PaperlessBilling</th>\n",
       "      <th>MonthlyCharges</th>\n",
       "      <th>Churn</th>\n",
       "      <th>InternetService_Fiber optic</th>\n",
       "      <th>InternetService_No</th>\n",
       "      <th>Contract_One year</th>\n",
       "      <th>Contract_Two year</th>\n",
       "      <th>PaymentMethod_Credit card (automatic)</th>\n",
       "      <th>PaymentMethod_Electronic check</th>\n",
       "      <th>PaymentMethod_Mailed check</th>\n",
       "    </tr>\n",
       "  </thead>\n",
       "  <tbody>\n",
       "    <tr>\n",
       "      <th>count</th>\n",
       "      <td>7032.000000</td>\n",
       "      <td>7032.000000</td>\n",
       "      <td>7032.000000</td>\n",
       "      <td>7032.000000</td>\n",
       "      <td>7032.000000</td>\n",
       "      <td>7032.000000</td>\n",
       "      <td>7032.000000</td>\n",
       "      <td>7032.000000</td>\n",
       "      <td>7032.000000</td>\n",
       "      <td>7032.000000</td>\n",
       "      <td>7032.000000</td>\n",
       "      <td>7032.000000</td>\n",
       "      <td>7032.000000</td>\n",
       "      <td>7032.000000</td>\n",
       "      <td>7032.000000</td>\n",
       "      <td>7032.000000</td>\n",
       "      <td>7032.000000</td>\n",
       "      <td>7032.000000</td>\n",
       "      <td>7032.000000</td>\n",
       "      <td>7032.000000</td>\n",
       "      <td>7032.000000</td>\n",
       "    </tr>\n",
       "    <tr>\n",
       "      <th>mean</th>\n",
       "      <td>0.162400</td>\n",
       "      <td>0.482509</td>\n",
       "      <td>0.298493</td>\n",
       "      <td>0.442560</td>\n",
       "      <td>1.325228</td>\n",
       "      <td>0.286547</td>\n",
       "      <td>0.344852</td>\n",
       "      <td>0.343857</td>\n",
       "      <td>0.290102</td>\n",
       "      <td>0.384386</td>\n",
       "      <td>0.388367</td>\n",
       "      <td>0.592719</td>\n",
       "      <td>0.463166</td>\n",
       "      <td>0.265785</td>\n",
       "      <td>0.440273</td>\n",
       "      <td>0.216155</td>\n",
       "      <td>0.209329</td>\n",
       "      <td>0.239619</td>\n",
       "      <td>0.216297</td>\n",
       "      <td>0.336320</td>\n",
       "      <td>0.228100</td>\n",
       "    </tr>\n",
       "    <tr>\n",
       "      <th>std</th>\n",
       "      <td>0.368844</td>\n",
       "      <td>0.499729</td>\n",
       "      <td>0.457629</td>\n",
       "      <td>0.345708</td>\n",
       "      <td>0.642585</td>\n",
       "      <td>0.452180</td>\n",
       "      <td>0.475354</td>\n",
       "      <td>0.475028</td>\n",
       "      <td>0.453842</td>\n",
       "      <td>0.486484</td>\n",
       "      <td>0.487414</td>\n",
       "      <td>0.491363</td>\n",
       "      <td>0.299363</td>\n",
       "      <td>0.441782</td>\n",
       "      <td>0.496455</td>\n",
       "      <td>0.411650</td>\n",
       "      <td>0.406858</td>\n",
       "      <td>0.426881</td>\n",
       "      <td>0.411748</td>\n",
       "      <td>0.472483</td>\n",
       "      <td>0.419637</td>\n",
       "    </tr>\n",
       "    <tr>\n",
       "      <th>min</th>\n",
       "      <td>0.000000</td>\n",
       "      <td>0.000000</td>\n",
       "      <td>0.000000</td>\n",
       "      <td>0.000000</td>\n",
       "      <td>0.000000</td>\n",
       "      <td>0.000000</td>\n",
       "      <td>0.000000</td>\n",
       "      <td>0.000000</td>\n",
       "      <td>0.000000</td>\n",
       "      <td>0.000000</td>\n",
       "      <td>0.000000</td>\n",
       "      <td>0.000000</td>\n",
       "      <td>0.000000</td>\n",
       "      <td>0.000000</td>\n",
       "      <td>0.000000</td>\n",
       "      <td>0.000000</td>\n",
       "      <td>0.000000</td>\n",
       "      <td>0.000000</td>\n",
       "      <td>0.000000</td>\n",
       "      <td>0.000000</td>\n",
       "      <td>0.000000</td>\n",
       "    </tr>\n",
       "    <tr>\n",
       "      <th>25%</th>\n",
       "      <td>0.000000</td>\n",
       "      <td>0.000000</td>\n",
       "      <td>0.000000</td>\n",
       "      <td>0.112676</td>\n",
       "      <td>1.000000</td>\n",
       "      <td>0.000000</td>\n",
       "      <td>0.000000</td>\n",
       "      <td>0.000000</td>\n",
       "      <td>0.000000</td>\n",
       "      <td>0.000000</td>\n",
       "      <td>0.000000</td>\n",
       "      <td>0.000000</td>\n",
       "      <td>0.172512</td>\n",
       "      <td>0.000000</td>\n",
       "      <td>0.000000</td>\n",
       "      <td>0.000000</td>\n",
       "      <td>0.000000</td>\n",
       "      <td>0.000000</td>\n",
       "      <td>0.000000</td>\n",
       "      <td>0.000000</td>\n",
       "      <td>0.000000</td>\n",
       "    </tr>\n",
       "    <tr>\n",
       "      <th>50%</th>\n",
       "      <td>0.000000</td>\n",
       "      <td>0.000000</td>\n",
       "      <td>0.000000</td>\n",
       "      <td>0.394366</td>\n",
       "      <td>1.000000</td>\n",
       "      <td>0.000000</td>\n",
       "      <td>0.000000</td>\n",
       "      <td>0.000000</td>\n",
       "      <td>0.000000</td>\n",
       "      <td>0.000000</td>\n",
       "      <td>0.000000</td>\n",
       "      <td>1.000000</td>\n",
       "      <td>0.518408</td>\n",
       "      <td>0.000000</td>\n",
       "      <td>0.000000</td>\n",
       "      <td>0.000000</td>\n",
       "      <td>0.000000</td>\n",
       "      <td>0.000000</td>\n",
       "      <td>0.000000</td>\n",
       "      <td>0.000000</td>\n",
       "      <td>0.000000</td>\n",
       "    </tr>\n",
       "    <tr>\n",
       "      <th>75%</th>\n",
       "      <td>0.000000</td>\n",
       "      <td>1.000000</td>\n",
       "      <td>1.000000</td>\n",
       "      <td>0.760563</td>\n",
       "      <td>2.000000</td>\n",
       "      <td>1.000000</td>\n",
       "      <td>1.000000</td>\n",
       "      <td>1.000000</td>\n",
       "      <td>1.000000</td>\n",
       "      <td>1.000000</td>\n",
       "      <td>1.000000</td>\n",
       "      <td>1.000000</td>\n",
       "      <td>0.712562</td>\n",
       "      <td>1.000000</td>\n",
       "      <td>1.000000</td>\n",
       "      <td>0.000000</td>\n",
       "      <td>0.000000</td>\n",
       "      <td>0.000000</td>\n",
       "      <td>0.000000</td>\n",
       "      <td>1.000000</td>\n",
       "      <td>0.000000</td>\n",
       "    </tr>\n",
       "    <tr>\n",
       "      <th>max</th>\n",
       "      <td>1.000000</td>\n",
       "      <td>1.000000</td>\n",
       "      <td>1.000000</td>\n",
       "      <td>1.000000</td>\n",
       "      <td>2.000000</td>\n",
       "      <td>1.000000</td>\n",
       "      <td>1.000000</td>\n",
       "      <td>1.000000</td>\n",
       "      <td>1.000000</td>\n",
       "      <td>1.000000</td>\n",
       "      <td>1.000000</td>\n",
       "      <td>1.000000</td>\n",
       "      <td>1.000000</td>\n",
       "      <td>1.000000</td>\n",
       "      <td>1.000000</td>\n",
       "      <td>1.000000</td>\n",
       "      <td>1.000000</td>\n",
       "      <td>1.000000</td>\n",
       "      <td>1.000000</td>\n",
       "      <td>1.000000</td>\n",
       "      <td>1.000000</td>\n",
       "    </tr>\n",
       "  </tbody>\n",
       "</table>\n",
       "</div>"
      ],
      "text/plain": [
       "       SeniorCitizen      Partner   Dependents       tenure  MultipleLines  \\\n",
       "count    7032.000000  7032.000000  7032.000000  7032.000000    7032.000000   \n",
       "mean        0.162400     0.482509     0.298493     0.442560       1.325228   \n",
       "std         0.368844     0.499729     0.457629     0.345708       0.642585   \n",
       "min         0.000000     0.000000     0.000000     0.000000       0.000000   \n",
       "25%         0.000000     0.000000     0.000000     0.112676       1.000000   \n",
       "50%         0.000000     0.000000     0.000000     0.394366       1.000000   \n",
       "75%         0.000000     1.000000     1.000000     0.760563       2.000000   \n",
       "max         1.000000     1.000000     1.000000     1.000000       2.000000   \n",
       "\n",
       "       OnlineSecurity  OnlineBackup  DeviceProtection  TechSupport  \\\n",
       "count     7032.000000   7032.000000       7032.000000  7032.000000   \n",
       "mean         0.286547      0.344852          0.343857     0.290102   \n",
       "std          0.452180      0.475354          0.475028     0.453842   \n",
       "min          0.000000      0.000000          0.000000     0.000000   \n",
       "25%          0.000000      0.000000          0.000000     0.000000   \n",
       "50%          0.000000      0.000000          0.000000     0.000000   \n",
       "75%          1.000000      1.000000          1.000000     1.000000   \n",
       "max          1.000000      1.000000          1.000000     1.000000   \n",
       "\n",
       "       StreamingTV  StreamingMovies  PaperlessBilling  MonthlyCharges  \\\n",
       "count  7032.000000      7032.000000       7032.000000     7032.000000   \n",
       "mean      0.384386         0.388367          0.592719        0.463166   \n",
       "std       0.486484         0.487414          0.491363        0.299363   \n",
       "min       0.000000         0.000000          0.000000        0.000000   \n",
       "25%       0.000000         0.000000          0.000000        0.172512   \n",
       "50%       0.000000         0.000000          1.000000        0.518408   \n",
       "75%       1.000000         1.000000          1.000000        0.712562   \n",
       "max       1.000000         1.000000          1.000000        1.000000   \n",
       "\n",
       "             Churn  InternetService_Fiber optic  InternetService_No  \\\n",
       "count  7032.000000                  7032.000000         7032.000000   \n",
       "mean      0.265785                     0.440273            0.216155   \n",
       "std       0.441782                     0.496455            0.411650   \n",
       "min       0.000000                     0.000000            0.000000   \n",
       "25%       0.000000                     0.000000            0.000000   \n",
       "50%       0.000000                     0.000000            0.000000   \n",
       "75%       1.000000                     1.000000            0.000000   \n",
       "max       1.000000                     1.000000            1.000000   \n",
       "\n",
       "       Contract_One year  Contract_Two year  \\\n",
       "count        7032.000000        7032.000000   \n",
       "mean            0.209329           0.239619   \n",
       "std             0.406858           0.426881   \n",
       "min             0.000000           0.000000   \n",
       "25%             0.000000           0.000000   \n",
       "50%             0.000000           0.000000   \n",
       "75%             0.000000           0.000000   \n",
       "max             1.000000           1.000000   \n",
       "\n",
       "       PaymentMethod_Credit card (automatic)  PaymentMethod_Electronic check  \\\n",
       "count                            7032.000000                     7032.000000   \n",
       "mean                                0.216297                        0.336320   \n",
       "std                                 0.411748                        0.472483   \n",
       "min                                 0.000000                        0.000000   \n",
       "25%                                 0.000000                        0.000000   \n",
       "50%                                 0.000000                        0.000000   \n",
       "75%                                 0.000000                        1.000000   \n",
       "max                                 1.000000                        1.000000   \n",
       "\n",
       "       PaymentMethod_Mailed check  \n",
       "count                 7032.000000  \n",
       "mean                     0.228100  \n",
       "std                      0.419637  \n",
       "min                      0.000000  \n",
       "25%                      0.000000  \n",
       "50%                      0.000000  \n",
       "75%                      0.000000  \n",
       "max                      1.000000  "
      ]
     },
     "execution_count": 28,
     "metadata": {},
     "output_type": "execute_result"
    }
   ],
   "source": [
    "scaler = MinMaxScaler()\n",
    "\n",
    "df_dummies[cols_scaled] = scaler.fit_transform(df_dummies[cols_scaled])\n",
    "df_dummies.describe()"
   ]
  },
  {
   "cell_type": "markdown",
   "id": "651b136d-244e-4f96-9fb4-f2649505e118",
   "metadata": {
    "id": "651b136d-244e-4f96-9fb4-f2649505e118"
   },
   "source": [
    "---"
   ]
  },
  {
   "cell_type": "markdown",
   "id": "e6c236fb-257f-4f52-a80b-9b4aa10d4cc8",
   "metadata": {
    "id": "e6c236fb-257f-4f52-a80b-9b4aa10d4cc8"
   },
   "source": [
    "# Splitting Data"
   ]
  },
  {
   "cell_type": "code",
   "execution_count": 29,
   "id": "185b19e5",
   "metadata": {
    "colab": {
     "base_uri": "https://localhost:8080/"
    },
    "id": "185b19e5",
    "outputId": "61ac9557-4c77-4723-f608-cc8edf1a7428"
   },
   "outputs": [
    {
     "data": {
      "text/plain": [
       "((7032, 20), (7032,))"
      ]
     },
     "execution_count": 29,
     "metadata": {},
     "output_type": "execute_result"
    }
   ],
   "source": [
    "X = df_dummies.drop('Churn', axis=1)\n",
    "Y = df_dummies.Churn\n",
    "X.shape, Y.shape"
   ]
  },
  {
   "cell_type": "code",
   "execution_count": 30,
   "id": "5ae2cf15",
   "metadata": {
    "colab": {
     "base_uri": "https://localhost:8080/"
    },
    "id": "5ae2cf15",
    "outputId": "3f7849f8-bc9f-489a-a32a-4017e4a943bc"
   },
   "outputs": [
    {
     "data": {
      "text/plain": [
       "((5625,), (1407,), (1407,))"
      ]
     },
     "execution_count": 30,
     "metadata": {},
     "output_type": "execute_result"
    }
   ],
   "source": [
    "X_train, X_test, Y_train, Y_test = train_test_split(X, Y, train_size=0.8, shuffle=True)\n",
    "\n",
    "X_train, X_val, Y_train, Y_val = train_test_split(X, Y, train_size=0.8, shuffle=True)\n",
    "\n",
    "Y_train.shape, Y_val.shape, Y_test.shape"
   ]
  },
  {
   "cell_type": "code",
   "execution_count": 31,
   "id": "7053848a-d328-4a73-98ce-01fa894d674f",
   "metadata": {
    "colab": {
     "base_uri": "https://localhost:8080/",
     "height": 178
    },
    "id": "7053848a-d328-4a73-98ce-01fa894d674f",
    "outputId": "efa72246-5f74-4225-c0ee-445a55ee02c5"
   },
   "outputs": [
    {
     "data": {
      "text/plain": [
       "Churn\n",
       "0    4121\n",
       "1    1504\n",
       "Name: count, dtype: int64"
      ]
     },
     "execution_count": 31,
     "metadata": {},
     "output_type": "execute_result"
    }
   ],
   "source": [
    "Y_train.value_counts()"
   ]
  },
  {
   "cell_type": "markdown",
   "id": "UrPm9q-OBalV",
   "metadata": {
    "id": "UrPm9q-OBalV"
   },
   "source": [
    "==> **IMBALANCED CLASSES**"
   ]
  },
  {
   "cell_type": "markdown",
   "id": "bc0b9afe-edef-4199-b17d-8decb0ee1585",
   "metadata": {
    "id": "bc0b9afe-edef-4199-b17d-8decb0ee1585"
   },
   "source": [
    "# Building a Model"
   ]
  },
  {
   "cell_type": "code",
   "execution_count": 32,
   "id": "-lKK-oxzDcfQ",
   "metadata": {
    "colab": {
     "base_uri": "https://localhost:8080/"
    },
    "id": "-lKK-oxzDcfQ",
    "outputId": "64a64436-99c4-48f0-b4c7-65f7816294d0"
   },
   "outputs": [
    {
     "data": {
      "text/plain": [
       "20"
      ]
     },
     "execution_count": 32,
     "metadata": {},
     "output_type": "execute_result"
    }
   ],
   "source": [
    "N_FEATURES = X.shape[1]\n",
    "N_FEATURES"
   ]
  },
  {
   "cell_type": "code",
   "execution_count": 33,
   "id": "1cf55ea9",
   "metadata": {
    "id": "1cf55ea9"
   },
   "outputs": [],
   "source": [
    "def model(X_train, y_train,\n",
    "          X_val, y_val,\n",
    "          X_test, y_test,\n",
    "          epochs=100,\n",
    "          class_weight_dict=None):\n",
    "\n",
    "    # Define the model\n",
    "    model = keras.Sequential([\n",
    "    keras.layers.Input(shape=(X_train.shape[1],), batch_size=64),\n",
    "    keras.layers.Dense(64, activation='relu'),\n",
    "    keras.layers.Dropout(0.3),\n",
    "    keras.layers.Dense(32, activation='relu'),\n",
    "    keras.layers.Dropout(0.2),\n",
    "    keras.layers.Dense(1, activation='sigmoid')\n",
    "    ])\n",
    "\n",
    "    # Compile the model\n",
    "    model.compile(\n",
    "        optimizer=keras.optimizers.Adam(learning_rate=1e-3),\n",
    "        loss='binary_crossentropy',\n",
    "        metrics=['accuracy']\n",
    "    )\n",
    "\n",
    "    # Define callbacks\n",
    "    callbacks = [\n",
    "        keras.callbacks.EarlyStopping(monitor='val_loss', patience=5, restore_best_weights=True),\n",
    "        keras.callbacks.ReduceLROnPlateau(monitor='val_loss', factor=0.1, patience=3)\n",
    "    ]\n",
    "    \n",
    "    # Train the model\n",
    "    model.fit(X_train, y_train, epochs=epochs, validation_data=(X_val, y_val), class_weight=class_weight_dict, callbacks=callbacks)\n",
    "\n",
    "    # Predict\n",
    "    test_probs = model.predict(X_test)\n",
    "    yp_test = np.where(test_probs > 0.5, 1, 0)\n",
    "\n",
    "    # Evaluate\n",
    "    cm = confusion_matrix(y_test, yp_test)\n",
    "    report = classification_report(y_test, yp_test)\n",
    "\n",
    "    return cm, report"
   ]
  },
  {
   "cell_type": "code",
   "execution_count": 34,
   "id": "4f055ca5-5ce6-4d38-bb18-94cb76682009",
   "metadata": {
    "id": "4f055ca5-5ce6-4d38-bb18-94cb76682009"
   },
   "outputs": [],
   "source": [
    "def plot_cm(cm):\n",
    "    plt.figure(figsize=(4,4))\n",
    "    sns.heatmap(cm, annot=True, fmt='d')\n",
    "    plt.xlabel('Predicted', fontsize=12)\n",
    "    plt.ylabel('Truth', fontsize=12)\n",
    "    plt.title('Confusion Matrix')\n",
    "    plt.show()"
   ]
  },
  {
   "cell_type": "markdown",
   "id": "463ee142-22bf-49de-8694-fd6ad67b2cea",
   "metadata": {
    "id": "463ee142-22bf-49de-8694-fd6ad67b2cea"
   },
   "source": [
    "---"
   ]
  },
  {
   "cell_type": "markdown",
   "id": "2d1b5bf1",
   "metadata": {
    "id": "2d1b5bf1"
   },
   "source": [
    "# Training with an Imbalanced Dataset"
   ]
  },
  {
   "cell_type": "code",
   "execution_count": 35,
   "id": "e3340e51-5e17-4410-9996-83ff84292cae",
   "metadata": {
    "colab": {
     "base_uri": "https://localhost:8080/"
    },
    "id": "e3340e51-5e17-4410-9996-83ff84292cae",
    "outputId": "800330b2-0e13-40d9-8108-40dc798073d8",
    "scrolled": true
   },
   "outputs": [
    {
     "name": "stdout",
     "output_type": "stream",
     "text": [
      "Epoch 1/100\n",
      "\u001b[1m176/176\u001b[0m \u001b[32m━━━━━━━━━━━━━━━━━━━━\u001b[0m\u001b[37m\u001b[0m \u001b[1m4s\u001b[0m 7ms/step - accuracy: 0.6448 - loss: 0.6078 - val_accuracy: 0.7953 - val_loss: 0.4303 - learning_rate: 0.0010\n",
      "Epoch 2/100\n",
      "\u001b[1m176/176\u001b[0m \u001b[32m━━━━━━━━━━━━━━━━━━━━\u001b[0m\u001b[37m\u001b[0m \u001b[1m1s\u001b[0m 4ms/step - accuracy: 0.7782 - loss: 0.4647 - val_accuracy: 0.8045 - val_loss: 0.4150 - learning_rate: 0.0010\n",
      "Epoch 3/100\n",
      "\u001b[1m176/176\u001b[0m \u001b[32m━━━━━━━━━━━━━━━━━━━━\u001b[0m\u001b[37m\u001b[0m \u001b[1m1s\u001b[0m 6ms/step - accuracy: 0.7787 - loss: 0.4536 - val_accuracy: 0.8109 - val_loss: 0.4113 - learning_rate: 0.0010\n",
      "Epoch 4/100\n",
      "\u001b[1m176/176\u001b[0m \u001b[32m━━━━━━━━━━━━━━━━━━━━\u001b[0m\u001b[37m\u001b[0m \u001b[1m1s\u001b[0m 4ms/step - accuracy: 0.7926 - loss: 0.4334 - val_accuracy: 0.8095 - val_loss: 0.4102 - learning_rate: 0.0010\n",
      "Epoch 5/100\n",
      "\u001b[1m176/176\u001b[0m \u001b[32m━━━━━━━━━━━━━━━━━━━━\u001b[0m\u001b[37m\u001b[0m \u001b[1m1s\u001b[0m 4ms/step - accuracy: 0.7941 - loss: 0.4343 - val_accuracy: 0.8088 - val_loss: 0.4098 - learning_rate: 0.0010\n",
      "Epoch 6/100\n",
      "\u001b[1m176/176\u001b[0m \u001b[32m━━━━━━━━━━━━━━━━━━━━\u001b[0m\u001b[37m\u001b[0m \u001b[1m1s\u001b[0m 4ms/step - accuracy: 0.7959 - loss: 0.4305 - val_accuracy: 0.8095 - val_loss: 0.4125 - learning_rate: 0.0010\n",
      "Epoch 7/100\n",
      "\u001b[1m176/176\u001b[0m \u001b[32m━━━━━━━━━━━━━━━━━━━━\u001b[0m\u001b[37m\u001b[0m \u001b[1m1s\u001b[0m 4ms/step - accuracy: 0.7972 - loss: 0.4216 - val_accuracy: 0.8138 - val_loss: 0.4089 - learning_rate: 0.0010\n",
      "Epoch 8/100\n",
      "\u001b[1m176/176\u001b[0m \u001b[32m━━━━━━━━━━━━━━━━━━━━\u001b[0m\u001b[37m\u001b[0m \u001b[1m1s\u001b[0m 4ms/step - accuracy: 0.8005 - loss: 0.4264 - val_accuracy: 0.8159 - val_loss: 0.4108 - learning_rate: 0.0010\n",
      "Epoch 9/100\n",
      "\u001b[1m176/176\u001b[0m \u001b[32m━━━━━━━━━━━━━━━━━━━━\u001b[0m\u001b[37m\u001b[0m \u001b[1m1s\u001b[0m 4ms/step - accuracy: 0.8028 - loss: 0.4184 - val_accuracy: 0.8131 - val_loss: 0.4098 - learning_rate: 0.0010\n",
      "Epoch 10/100\n",
      "\u001b[1m176/176\u001b[0m \u001b[32m━━━━━━━━━━━━━━━━━━━━\u001b[0m\u001b[37m\u001b[0m \u001b[1m1s\u001b[0m 5ms/step - accuracy: 0.7958 - loss: 0.4279 - val_accuracy: 0.8131 - val_loss: 0.4079 - learning_rate: 0.0010\n",
      "Epoch 11/100\n",
      "\u001b[1m176/176\u001b[0m \u001b[32m━━━━━━━━━━━━━━━━━━━━\u001b[0m\u001b[37m\u001b[0m \u001b[1m1s\u001b[0m 6ms/step - accuracy: 0.7922 - loss: 0.4296 - val_accuracy: 0.8166 - val_loss: 0.4074 - learning_rate: 0.0010\n",
      "Epoch 12/100\n",
      "\u001b[1m176/176\u001b[0m \u001b[32m━━━━━━━━━━━━━━━━━━━━\u001b[0m\u001b[37m\u001b[0m \u001b[1m2s\u001b[0m 8ms/step - accuracy: 0.7897 - loss: 0.4256 - val_accuracy: 0.8188 - val_loss: 0.4089 - learning_rate: 0.0010\n",
      "Epoch 13/100\n",
      "\u001b[1m176/176\u001b[0m \u001b[32m━━━━━━━━━━━━━━━━━━━━\u001b[0m\u001b[37m\u001b[0m \u001b[1m1s\u001b[0m 5ms/step - accuracy: 0.8073 - loss: 0.4155 - val_accuracy: 0.8181 - val_loss: 0.4068 - learning_rate: 0.0010\n",
      "Epoch 14/100\n",
      "\u001b[1m176/176\u001b[0m \u001b[32m━━━━━━━━━━━━━━━━━━━━\u001b[0m\u001b[37m\u001b[0m \u001b[1m1s\u001b[0m 6ms/step - accuracy: 0.7963 - loss: 0.4170 - val_accuracy: 0.8166 - val_loss: 0.4086 - learning_rate: 0.0010\n",
      "Epoch 15/100\n",
      "\u001b[1m176/176\u001b[0m \u001b[32m━━━━━━━━━━━━━━━━━━━━\u001b[0m\u001b[37m\u001b[0m \u001b[1m1s\u001b[0m 6ms/step - accuracy: 0.7997 - loss: 0.4182 - val_accuracy: 0.8145 - val_loss: 0.4076 - learning_rate: 0.0010\n",
      "Epoch 16/100\n",
      "\u001b[1m176/176\u001b[0m \u001b[32m━━━━━━━━━━━━━━━━━━━━\u001b[0m\u001b[37m\u001b[0m \u001b[1m1s\u001b[0m 7ms/step - accuracy: 0.8069 - loss: 0.4063 - val_accuracy: 0.8152 - val_loss: 0.4096 - learning_rate: 0.0010\n",
      "Epoch 17/100\n",
      "\u001b[1m176/176\u001b[0m \u001b[32m━━━━━━━━━━━━━━━━━━━━\u001b[0m\u001b[37m\u001b[0m \u001b[1m1s\u001b[0m 6ms/step - accuracy: 0.7968 - loss: 0.4237 - val_accuracy: 0.8188 - val_loss: 0.4077 - learning_rate: 1.0000e-04\n",
      "Epoch 18/100\n",
      "\u001b[1m176/176\u001b[0m \u001b[32m━━━━━━━━━━━━━━━━━━━━\u001b[0m\u001b[37m\u001b[0m \u001b[1m1s\u001b[0m 8ms/step - accuracy: 0.8036 - loss: 0.4084 - val_accuracy: 0.8188 - val_loss: 0.4075 - learning_rate: 1.0000e-04\n",
      "\u001b[1m44/44\u001b[0m \u001b[32m━━━━━━━━━━━━━━━━━━━━\u001b[0m\u001b[37m\u001b[0m \u001b[1m0s\u001b[0m 3ms/step\n"
     ]
    }
   ],
   "source": [
    "cm_1, report_1 = model(X_train, Y_train, X_val, Y_val, X_test, Y_test)"
   ]
  },
  {
   "cell_type": "code",
   "execution_count": 36,
   "id": "0ff6fc67-f199-470d-8dbc-b20c351a3c93",
   "metadata": {
    "colab": {
     "base_uri": "https://localhost:8080/",
     "height": 596
    },
    "id": "0ff6fc67-f199-470d-8dbc-b20c351a3c93",
    "outputId": "9435d2a2-b147-40fb-ea40-c5f11e475523"
   },
   "outputs": [
    {
     "data": {
      "image/png": "[encoded data removed]",
      "text/plain": [
       "<Figure size 400x400 with 2 Axes>"
      ]
     },
     "metadata": {},
     "output_type": "display_data"
    },
    {
     "name": "stdout",
     "output_type": "stream",
     "text": [
      "----------------------------------------------------------------------------------------------------\n",
      "              precision    recall  f1-score   support\n",
      "\n",
      "           0       0.87      0.88      0.87      1047\n",
      "           1       0.63      0.60      0.62       360\n",
      "\n",
      "    accuracy                           0.81      1407\n",
      "   macro avg       0.75      0.74      0.75      1407\n",
      "weighted avg       0.81      0.81      0.81      1407\n",
      "\n"
     ]
    }
   ],
   "source": [
    "plot_cm(cm_1)\n",
    "print('-'*100)\n",
    "print(report_1)"
   ]
  },
  {
   "cell_type": "markdown",
   "id": "a06c6808-f943-478f-96f1-a4109a90577f",
   "metadata": {
    "id": "a06c6808-f943-478f-96f1-a4109a90577f"
   },
   "source": [
    "---"
   ]
  },
  {
   "cell_type": "markdown",
   "id": "652ac19c",
   "metadata": {
    "id": "652ac19c"
   },
   "source": [
    "# Handling an Imbalanced Dataset"
   ]
  },
  {
   "cell_type": "markdown",
   "id": "df71b576",
   "metadata": {
    "id": "df71b576"
   },
   "source": [
    "### Method 1: SMOTE (Synthetic Minority Over-sampling)"
   ]
  },
  {
   "cell_type": "code",
   "execution_count": 37,
   "id": "e27893ae",
   "metadata": {
    "id": "e27893ae"
   },
   "outputs": [],
   "source": [
    "from imblearn.over_sampling import SMOTE"
   ]
  },
  {
   "cell_type": "code",
   "execution_count": 38,
   "id": "57e863be-eb4d-42fe-b58f-0045403ec6a2",
   "metadata": {
    "id": "57e863be-eb4d-42fe-b58f-0045403ec6a2"
   },
   "outputs": [],
   "source": [
    "smote = SMOTE(sampling_strategy='minority', k_neighbors=5)  # using K-nearest Neighbours to over_sampling minority\n",
    "X_smote, Y_smote = smote.fit_resample(X_train, Y_train)"
   ]
  },
  {
   "cell_type": "code",
   "execution_count": 39,
   "id": "03e31226",
   "metadata": {
    "colab": {
     "base_uri": "https://localhost:8080/",
     "height": 178
    },
    "id": "03e31226",
    "outputId": "c152e4e5-6c03-4a6b-e9c8-be79c7262aa9"
   },
   "outputs": [
    {
     "data": {
      "text/plain": [
       "Churn\n",
       "1    4121\n",
       "0    4121\n",
       "Name: count, dtype: int64"
      ]
     },
     "execution_count": 39,
     "metadata": {},
     "output_type": "execute_result"
    }
   ],
   "source": [
    "Y_smote.value_counts()"
   ]
  },
  {
   "cell_type": "markdown",
   "id": "g0h-I4W6GiFE",
   "metadata": {
    "id": "g0h-I4W6GiFE"
   },
   "source": [
    "- Now, classes are equal"
   ]
  },
  {
   "cell_type": "code",
   "execution_count": 40,
   "id": "30ef9e25",
   "metadata": {
    "colab": {
     "base_uri": "https://localhost:8080/"
    },
    "id": "30ef9e25",
    "outputId": "ff5bc114-bc2a-4945-a36e-a55c26524df8",
    "scrolled": true
   },
   "outputs": [
    {
     "name": "stdout",
     "output_type": "stream",
     "text": [
      "Epoch 1/100\n",
      "\u001b[1m258/258\u001b[0m \u001b[32m━━━━━━━━━━━━━━━━━━━━\u001b[0m\u001b[37m\u001b[0m \u001b[1m5s\u001b[0m 6ms/step - accuracy: 0.6624 - loss: 0.6099 - val_accuracy: 0.7527 - val_loss: 0.4890 - learning_rate: 0.0010\n",
      "Epoch 2/100\n",
      "\u001b[1m258/258\u001b[0m \u001b[32m━━━━━━━━━━━━━━━━━━━━\u001b[0m\u001b[37m\u001b[0m \u001b[1m1s\u001b[0m 4ms/step - accuracy: 0.7691 - loss: 0.4883 - val_accuracy: 0.7505 - val_loss: 0.4739 - learning_rate: 0.0010\n",
      "Epoch 3/100\n",
      "\u001b[1m258/258\u001b[0m \u001b[32m━━━━━━━━━━━━━━━━━━━━\u001b[0m\u001b[37m\u001b[0m \u001b[1m1s\u001b[0m 5ms/step - accuracy: 0.7855 - loss: 0.4693 - val_accuracy: 0.7512 - val_loss: 0.4776 - learning_rate: 0.0010\n",
      "Epoch 4/100\n",
      "\u001b[1m258/258\u001b[0m \u001b[32m━━━━━━━━━━━━━━━━━━━━\u001b[0m\u001b[37m\u001b[0m \u001b[1m2s\u001b[0m 7ms/step - accuracy: 0.7814 - loss: 0.4643 - val_accuracy: 0.7640 - val_loss: 0.4615 - learning_rate: 0.0010\n",
      "Epoch 5/100\n",
      "\u001b[1m258/258\u001b[0m \u001b[32m━━━━━━━━━━━━━━━━━━━━\u001b[0m\u001b[37m\u001b[0m \u001b[1m2s\u001b[0m 7ms/step - accuracy: 0.7793 - loss: 0.4645 - val_accuracy: 0.7662 - val_loss: 0.4636 - learning_rate: 0.0010\n",
      "Epoch 6/100\n",
      "\u001b[1m258/258\u001b[0m \u001b[32m━━━━━━━━━━━━━━━━━━━━\u001b[0m\u001b[37m\u001b[0m \u001b[1m2s\u001b[0m 7ms/step - accuracy: 0.7906 - loss: 0.4488 - val_accuracy: 0.7697 - val_loss: 0.4680 - learning_rate: 0.0010\n",
      "Epoch 7/100\n",
      "\u001b[1m258/258\u001b[0m \u001b[32m━━━━━━━━━━━━━━━━━━━━\u001b[0m\u001b[37m\u001b[0m \u001b[1m2s\u001b[0m 8ms/step - accuracy: 0.7857 - loss: 0.4597 - val_accuracy: 0.7747 - val_loss: 0.4587 - learning_rate: 0.0010\n",
      "Epoch 8/100\n",
      "\u001b[1m258/258\u001b[0m \u001b[32m━━━━━━━━━━━━━━━━━━━━\u001b[0m\u001b[37m\u001b[0m \u001b[1m2s\u001b[0m 7ms/step - accuracy: 0.7864 - loss: 0.4517 - val_accuracy: 0.7783 - val_loss: 0.4535 - learning_rate: 0.0010\n",
      "Epoch 9/100\n",
      "\u001b[1m258/258\u001b[0m \u001b[32m━━━━━━━━━━━━━━━━━━━━\u001b[0m\u001b[37m\u001b[0m \u001b[1m2s\u001b[0m 8ms/step - accuracy: 0.7905 - loss: 0.4493 - val_accuracy: 0.7633 - val_loss: 0.4789 - learning_rate: 0.0010\n",
      "Epoch 10/100\n",
      "\u001b[1m258/258\u001b[0m \u001b[32m━━━━━━━━━━━━━━━━━━━━\u001b[0m\u001b[37m\u001b[0m \u001b[1m2s\u001b[0m 6ms/step - accuracy: 0.7850 - loss: 0.4545 - val_accuracy: 0.7711 - val_loss: 0.4632 - learning_rate: 0.0010\n",
      "Epoch 11/100\n",
      "\u001b[1m258/258\u001b[0m \u001b[32m━━━━━━━━━━━━━━━━━━━━\u001b[0m\u001b[37m\u001b[0m \u001b[1m1s\u001b[0m 5ms/step - accuracy: 0.7901 - loss: 0.4506 - val_accuracy: 0.7640 - val_loss: 0.4786 - learning_rate: 0.0010\n",
      "Epoch 12/100\n",
      "\u001b[1m258/258\u001b[0m \u001b[32m━━━━━━━━━━━━━━━━━━━━\u001b[0m\u001b[37m\u001b[0m \u001b[1m3s\u001b[0m 8ms/step - accuracy: 0.7932 - loss: 0.4361 - val_accuracy: 0.7605 - val_loss: 0.4795 - learning_rate: 1.0000e-04\n",
      "Epoch 13/100\n",
      "\u001b[1m258/258\u001b[0m \u001b[32m━━━━━━━━━━━━━━━━━━━━\u001b[0m\u001b[37m\u001b[0m \u001b[1m2s\u001b[0m 6ms/step - accuracy: 0.7983 - loss: 0.4339 - val_accuracy: 0.7640 - val_loss: 0.4763 - learning_rate: 1.0000e-04\n",
      "\u001b[1m44/44\u001b[0m \u001b[32m━━━━━━━━━━━━━━━━━━━━\u001b[0m\u001b[37m\u001b[0m \u001b[1m0s\u001b[0m 4ms/step\n"
     ]
    }
   ],
   "source": [
    "cm_2, report_2 = model(X_smote, Y_smote, X_val, Y_val, X_test, Y_test)"
   ]
  },
  {
   "cell_type": "code",
   "execution_count": 41,
   "id": "adf5098d",
   "metadata": {
    "colab": {
     "base_uri": "https://localhost:8080/",
     "height": 596
    },
    "id": "adf5098d",
    "outputId": "f38ed520-f3cb-440c-c8a1-c623f4deb4f7"
   },
   "outputs": [
    {
     "data": {
      "image/png": "[encoded data removed]",
      "text/plain": [
       "<Figure size 400x400 with 2 Axes>"
      ]
     },
     "metadata": {},
     "output_type": "display_data"
    },
    {
     "name": "stdout",
     "output_type": "stream",
     "text": [
      "----------------------------------------------------------------------------------------------------\n",
      "              precision    recall  f1-score   support\n",
      "\n",
      "           0       0.90      0.76      0.83      1047\n",
      "           1       0.52      0.76      0.62       360\n",
      "\n",
      "    accuracy                           0.76      1407\n",
      "   macro avg       0.71      0.76      0.72      1407\n",
      "weighted avg       0.81      0.76      0.77      1407\n",
      "\n"
     ]
    }
   ],
   "source": [
    "plot_cm(cm_2)\n",
    "print('-'*100)\n",
    "print(report_2)"
   ]
  },
  {
   "cell_type": "markdown",
   "id": "7715d10e",
   "metadata": {
    "id": "7715d10e"
   },
   "source": [
    "### Method 2: Assign Higher Weight to the Minority Class"
   ]
  },
  {
   "cell_type": "code",
   "execution_count": 42,
   "id": "JzB3R_kiM7_v",
   "metadata": {
    "id": "JzB3R_kiM7_v"
   },
   "outputs": [],
   "source": [
    "def compute_class_weights(y_train):\n",
    "    n_samples = len(y_train)\n",
    "    class_names, counts = np.unique(y_train, return_counts=True)\n",
    "    n_classes = len(class_names)\n",
    "\n",
    "    class_weight_dict = {class_name: n_samples / (n_classes * count) for class_name, count in zip(class_names, counts)}\n",
    "    return class_weight_dict"
   ]
  },
  {
   "cell_type": "code",
   "execution_count": 43,
   "id": "JZ0J23yRQ56M",
   "metadata": {
    "colab": {
     "base_uri": "https://localhost:8080/",
     "height": 178
    },
    "id": "JZ0J23yRQ56M",
    "outputId": "21d05b30-d512-4974-f4f2-d3f0e343a889"
   },
   "outputs": [
    {
     "data": {
      "text/plain": [
       "Churn\n",
       "0    4121\n",
       "1    1504\n",
       "Name: count, dtype: int64"
      ]
     },
     "execution_count": 43,
     "metadata": {},
     "output_type": "execute_result"
    }
   ],
   "source": [
    "Y_train.value_counts()"
   ]
  },
  {
   "cell_type": "code",
   "execution_count": 44,
   "id": "LvGqoGEVQI-0",
   "metadata": {
    "colab": {
     "base_uri": "https://localhost:8080/"
    },
    "id": "LvGqoGEVQI-0",
    "outputId": "95225ce8-0cf4-4f67-fd48-5a7ed24d66a0"
   },
   "outputs": [
    {
     "data": {
      "text/plain": [
       "{0: 0.6824799805872361, 1: 1.8700132978723405}"
      ]
     },
     "execution_count": 44,
     "metadata": {},
     "output_type": "execute_result"
    }
   ],
   "source": [
    "class_weight_dict = compute_class_weights(Y_train)\n",
    "class_weight_dict"
   ]
  },
  {
   "cell_type": "code",
   "execution_count": 45,
   "id": "7WKIavmbQpH1",
   "metadata": {
    "colab": {
     "base_uri": "https://localhost:8080/"
    },
    "id": "7WKIavmbQpH1",
    "outputId": "7d956c85-6754-4fad-b6fc-3a15c909005b"
   },
   "outputs": [
    {
     "name": "stdout",
     "output_type": "stream",
     "text": [
      "Epoch 1/100\n",
      "\u001b[1m176/176\u001b[0m \u001b[32m━━━━━━━━━━━━━━━━━━━━\u001b[0m\u001b[37m\u001b[0m \u001b[1m5s\u001b[0m 11ms/step - accuracy: 0.5978 - loss: 0.6406 - val_accuracy: 0.7655 - val_loss: 0.4778 - learning_rate: 0.0010\n",
      "Epoch 2/100\n",
      "\u001b[1m176/176\u001b[0m \u001b[32m━━━━━━━━━━━━━━━━━━━━\u001b[0m\u001b[37m\u001b[0m \u001b[1m1s\u001b[0m 5ms/step - accuracy: 0.7321 - loss: 0.5271 - val_accuracy: 0.7555 - val_loss: 0.4847 - learning_rate: 0.0010\n",
      "Epoch 3/100\n",
      "\u001b[1m176/176\u001b[0m \u001b[32m━━━━━━━━━━━━━━━━━━━━\u001b[0m\u001b[37m\u001b[0m \u001b[1m1s\u001b[0m 5ms/step - accuracy: 0.7384 - loss: 0.5036 - val_accuracy: 0.7562 - val_loss: 0.4749 - learning_rate: 0.0010\n",
      "Epoch 4/100\n",
      "\u001b[1m176/176\u001b[0m \u001b[32m━━━━━━━━━━━━━━━━━━━━\u001b[0m\u001b[37m\u001b[0m \u001b[1m1s\u001b[0m 6ms/step - accuracy: 0.7449 - loss: 0.5044 - val_accuracy: 0.7534 - val_loss: 0.4802 - learning_rate: 0.0010\n",
      "Epoch 5/100\n",
      "\u001b[1m176/176\u001b[0m \u001b[32m━━━━━━━━━━━━━━━━━━━━\u001b[0m\u001b[37m\u001b[0m \u001b[1m1s\u001b[0m 6ms/step - accuracy: 0.7473 - loss: 0.4968 - val_accuracy: 0.7505 - val_loss: 0.4824 - learning_rate: 0.0010\n",
      "Epoch 6/100\n",
      "\u001b[1m176/176\u001b[0m \u001b[32m━━━━━━━━━━━━━━━━━━━━\u001b[0m\u001b[37m\u001b[0m \u001b[1m1s\u001b[0m 8ms/step - accuracy: 0.7382 - loss: 0.5145 - val_accuracy: 0.7697 - val_loss: 0.4603 - learning_rate: 0.0010\n",
      "Epoch 7/100\n",
      "\u001b[1m176/176\u001b[0m \u001b[32m━━━━━━━━━━━━━━━━━━━━\u001b[0m\u001b[37m\u001b[0m \u001b[1m2s\u001b[0m 9ms/step - accuracy: 0.7562 - loss: 0.4738 - val_accuracy: 0.7200 - val_loss: 0.5181 - learning_rate: 0.0010\n",
      "Epoch 8/100\n",
      "\u001b[1m176/176\u001b[0m \u001b[32m━━━━━━━━━━━━━━━━━━━━\u001b[0m\u001b[37m\u001b[0m \u001b[1m1s\u001b[0m 8ms/step - accuracy: 0.7444 - loss: 0.4896 - val_accuracy: 0.7299 - val_loss: 0.5028 - learning_rate: 0.0010\n",
      "Epoch 9/100\n",
      "\u001b[1m176/176\u001b[0m \u001b[32m━━━━━━━━━━━━━━━━━━━━\u001b[0m\u001b[37m\u001b[0m \u001b[1m1s\u001b[0m 7ms/step - accuracy: 0.7454 - loss: 0.4921 - val_accuracy: 0.7477 - val_loss: 0.4859 - learning_rate: 0.0010\n",
      "Epoch 10/100\n",
      "\u001b[1m176/176\u001b[0m \u001b[32m━━━━━━━━━━━━━━━━━━━━\u001b[0m\u001b[37m\u001b[0m \u001b[1m2s\u001b[0m 8ms/step - accuracy: 0.7551 - loss: 0.4713 - val_accuracy: 0.7512 - val_loss: 0.4852 - learning_rate: 1.0000e-04\n",
      "Epoch 11/100\n",
      "\u001b[1m176/176\u001b[0m \u001b[32m━━━━━━━━━━━━━━━━━━━━\u001b[0m\u001b[37m\u001b[0m \u001b[1m1s\u001b[0m 7ms/step - accuracy: 0.7478 - loss: 0.4862 - val_accuracy: 0.7498 - val_loss: 0.4852 - learning_rate: 1.0000e-04\n",
      "\u001b[1m44/44\u001b[0m \u001b[32m━━━━━━━━━━━━━━━━━━━━\u001b[0m\u001b[37m\u001b[0m \u001b[1m0s\u001b[0m 5ms/step\n"
     ]
    }
   ],
   "source": [
    "Y_train = np.asarray(Y_train).astype(int)\n",
    "Y_val = np.asarray(Y_val).astype(int)\n",
    "Y_test = np.asarray(Y_test).astype(int)\n",
    "\n",
    "cm_3, report_3 = model(X_train, Y_train, X_val, Y_val, X_test, Y_test,\n",
    "                       epochs=100,\n",
    "                       class_weight_dict=class_weight_dict\n",
    "                      )"
   ]
  },
  {
   "cell_type": "code",
   "execution_count": 46,
   "id": "wDox29vBRL9H",
   "metadata": {
    "colab": {
     "base_uri": "https://localhost:8080/",
     "height": 596
    },
    "id": "wDox29vBRL9H",
    "outputId": "fb752f93-f07d-4a53-a80e-3b2978336297"
   },
   "outputs": [
    {
     "data": {
      "image/png": "[encoded data removed]",
      "text/plain": [
       "<Figure size 400x400 with 2 Axes>"
      ]
     },
     "metadata": {},
     "output_type": "display_data"
    },
    {
     "name": "stdout",
     "output_type": "stream",
     "text": [
      "----------------------------------------------------------------------------------------------------\n",
      "              precision    recall  f1-score   support\n",
      "\n",
      "           0       0.91      0.75      0.82      1047\n",
      "           1       0.52      0.79      0.63       360\n",
      "\n",
      "    accuracy                           0.76      1407\n",
      "   macro avg       0.72      0.77      0.72      1407\n",
      "weighted avg       0.81      0.76      0.77      1407\n",
      "\n"
     ]
    }
   ],
   "source": [
    "plot_cm(cm_3)\n",
    "print('-'*100)\n",
    "print(report_3)"
   ]
  },
  {
   "cell_type": "markdown",
   "id": "lGDI64LuVElv",
   "metadata": {
    "id": "lGDI64LuVElv"
   },
   "source": [
    "---"
   ]
  },
  {
   "cell_type": "markdown",
   "id": "qSLya4PkU_xn",
   "metadata": {
    "id": "qSLya4PkU_xn"
   },
   "source": [
    "# Conclusion"
   ]
  },
  {
   "cell_type": "markdown",
   "id": "rRKRETMlVFx1",
   "metadata": {
    "id": "rRKRETMlVFx1"
   },
   "source": [
    "### Without Handling Imbalanced\n",
    "\n",
    "- The company fails to identify many customers at risk of leaving, leading to missed opportunities to retain them.\n",
    "\n",
    "- Financial Impact: Lost revenue due to preventable churn."
   ]
  },
  {
   "cell_type": "markdown",
   "id": "4-myJ0MoWNjx",
   "metadata": {
    "id": "4-myJ0MoWNjx"
   },
   "source": [
    "### Using SMOTE\n",
    "- The company can proactively offer retention discounts but might waste resources on customers who weren’t going to leave.\n",
    "\n",
    "- Financial Impact: More churn reduction, but some unnecessary retention costs."
   ]
  },
  {
   "cell_type": "markdown",
   "id": "-P351R4zWN-F",
   "metadata": {
    "id": "-P351R4zWN-F"
   },
   "source": [
    "### Using Class Weights\n",
    "- The company reduces churn further but risks offering discounts to customers who would have stayed anyway.\n",
    "\n",
    "- Financial Impact: Best churn prevention but higher retention costs compared to the first method."
   ]
  },
  {
   "cell_type": "markdown",
   "id": "IxM6hbdhWkWS",
   "metadata": {
    "id": "IxM6hbdhWkWS"
   },
   "source": [
    "---"
   ]
  }
 ],
 "metadata": {
  "colab": {
   "provenance": [],
   "toc_visible": true
  },
  "kernelspec": {
   "display_name": "Python 3 (ipykernel)",
   "language": "python",
   "name": "python3"
  },
  "language_info": {
   "codemirror_mode": {
    "name": "ipython",
    "version": 3
   },
   "file_extension": ".py",
   "mimetype": "text/x-python",
   "name": "python",
   "nbconvert_exporter": "python",
   "pygments_lexer": "ipython3",
   "version": "3.11.7"
  }
 },
 "nbformat": 4,
 "nbformat_minor": 5
}
